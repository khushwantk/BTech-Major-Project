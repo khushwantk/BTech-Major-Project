{
 "cells": [
  {
   "cell_type": "code",
   "execution_count": 2,
   "id": "504cb4f6",
   "metadata": {
    "_cell_guid": "b1076dfc-b9ad-4769-8c92-a6c4dae69d19",
    "_kg_hide-input": true,
    "_uuid": "8f2839f25d086af736a60e9eeb907d3b93b6e0e5",
    "execution": {
     "iopub.execute_input": "2022-09-17T07:45:10.200314Z",
     "iopub.status.busy": "2022-09-17T07:45:10.199880Z",
     "iopub.status.idle": "2022-09-17T07:45:10.210690Z",
     "shell.execute_reply": "2022-09-17T07:45:10.209643Z"
    },
    "papermill": {
     "duration": 0.021367,
     "end_time": "2022-09-17T07:45:10.213038",
     "exception": false,
     "start_time": "2022-09-17T07:45:10.191671",
     "status": "completed"
    },
    "tags": []
   },
   "outputs": [],
   "source": [
    "from os import listdir\n",
    "import pandas as pd\n",
    "import time\n",
    "import nltk\n",
    "from nltk.corpus import stopwords\n",
    "from nltk.stem import PorterStemmer\n",
    "from nltk.stem.wordnet import WordNetLemmatizer\n",
    "from nltk.tokenize import word_tokenize, sent_tokenize, RegexpTokenizer\n",
    "from nltk.util import ngrams\n",
    "from nltk import pos_tag\n",
    "import re\n",
    "import string\n",
    "import textwrap\n",
    "import numpy as np\n",
    "import matplotlib.pyplot as plt\n",
    "import seaborn as sns\n",
    "from statistics import mean\n",
    "\n",
    "from nltk.cluster.util import cosine_distance\n",
    "import networkx as nx\n",
    "import statistics\n",
    "\n",
    "from sklearn.feature_extraction.text import TfidfVectorizer\n",
    "from scipy.sparse.linalg import svds"
   ]
  },
  {
   "cell_type": "markdown",
   "id": "4a3552a6",
   "metadata": {
    "papermill": {
     "duration": 0.004958,
     "end_time": "2022-09-17T07:45:10.223502",
     "exception": false,
     "start_time": "2022-09-17T07:45:10.218544",
     "status": "completed"
    },
    "tags": []
   },
   "source": [
    "**Here is the documents**\n",
    "\n",
    "* I have a documents which is supposed to be summarized.\n",
    "* I have used LSA - Latent Semantic Analysis method to summarize the documts.\n",
    "* To do so I have the following algorithms\n",
    "\n",
    "**Algorithms**\n",
    "* Applying SVD to them using some sort of feature weights i.e TF-IDF weights\n",
    "* Get the sentence vectors from the matrix V (k rows).\n",
    "* Get the top k singular values from S\n",
    "* Apply a threshold-based approach to remove singular values that are less than half of the largest singular value if any exist. This is a heuristic, and you can play around with this value if you want.Mathematically, S i i i = < 0 ff S S( ) 1/2 (max S).\n",
    "* Multiply each term sentence column from V squared with its corresponding singular value from S also squared, to get sentence weights per topic.\n",
    "* Compute the sum of the sentence weights across the topics and take the square root of the final score to get the salience scores for each sentence in the document"
   ]
  },
  {
   "cell_type": "code",
   "execution_count": 3,
   "id": "b34185c8",
   "metadata": {},
   "outputs": [
    {
     "name": "stdout",
     "output_type": "stream",
     "text": [
      "<class 'pandas.core.frame.DataFrame'>\n",
      "Int64Index: 90887 entries, 0 to 91589\n",
      "Data columns (total 8 columns):\n",
      " #   Column                  Non-Null Count  Dtype \n",
      "---  ------                  --------------  ----- \n",
      " 0   article                 90887 non-null  object\n",
      " 1   summary                 90887 non-null  object\n",
      " 2   article_char_count      90887 non-null  int64 \n",
      " 3   article_word_count      90887 non-null  int64 \n",
      " 4   article_sentence_count  90887 non-null  int64 \n",
      " 5   summary_char_count      90887 non-null  int64 \n",
      " 6   summary_word_count      90887 non-null  int64 \n",
      " 7   summary_sentence_count  90887 non-null  int64 \n",
      "dtypes: int64(6), object(2)\n",
      "memory usage: 6.2+ MB\n"
     ]
    }
   ],
   "source": [
    "FINAL_CORPUS = './data/corpus/corpus_cleaned.pkl'\n",
    "corpus = pd.read_pickle(FINAL_CORPUS)\n",
    "# corpus.sample(3)\n",
    "corpus.info()"
   ]
  },
  {
   "cell_type": "code",
   "execution_count": 4,
   "id": "dbd6b73e",
   "metadata": {},
   "outputs": [],
   "source": [
    "stop_words = nltk.corpus.stopwords.words('english')"
   ]
  },
  {
   "cell_type": "code",
   "execution_count": 5,
   "id": "01ae1ea5",
   "metadata": {
    "execution": {
     "iopub.execute_input": "2022-09-17T07:45:10.235600Z",
     "iopub.status.busy": "2022-09-17T07:45:10.235205Z",
     "iopub.status.idle": "2022-09-17T07:45:10.243055Z",
     "shell.execute_reply": "2022-09-17T07:45:10.242059Z"
    },
    "papermill": {
     "duration": 0.016716,
     "end_time": "2022-09-17T07:45:10.245357",
     "exception": false,
     "start_time": "2022-09-17T07:45:10.228641",
     "status": "completed"
    },
    "tags": []
   },
   "outputs": [],
   "source": [
    "text = \"\"\"\n",
    "    The Elder Scrolls V: Skyrim is an action role-playing video game developed by Bethesda Game Studios \n",
    "    and published by Bethesda Softworks. It is the fifth main installment in The Elder Scrolls series, \n",
    "    following The Elder Scrolls IV: Oblivion.\n",
    "    The game's main story revolves around the player character's quest to defeat Alduin the World-Eater, \n",
    "    a dragon who is prophesied to destroy the world. The game is set 200 years after the events of Oblivion \n",
    "    and takes place in the fictional province of Skyrim. Over the course of the game, the player completes \n",
    "    quests and develops the character by improving skills. The game continues the open-world tradition of \n",
    "    its predecessors by allowing the player to travel anywhere in the game world at any time, and to ignore \n",
    "    or postpone the main storyline indefinitely.\n",
    "    The team opted for a unique and more diverse open world than Oblivion's Imperial Province of Cyrodiil, \n",
    "    which game director and executive producer Todd Howard considered less interesting by comparison. \n",
    "    The game was released to critical acclaim, with reviewers particularly mentioning the character advancement \n",
    "    and setting, and is considered to be one of the greatest video games of all time.\n",
    "    The Elder Scrolls V: Skyrim is an action role-playing game, playable from either a first or \n",
    "    third-person perspective. The player may freely roam over the land of Skyrim which is an open world \n",
    "    environment consisting of wilderness expanses, dungeons, cities, towns, fortresses, and villages. \n",
    "    Players may navigate the game world more quickly by riding horses or by utilizing a fast-travel system \n",
    "    which allows them to warp to previously discovered locations. The game's main quest can be completed or \n",
    "    ignored at the player's preference after the first stage of the quest is finished. However, some quests \n",
    "    rely on the main storyline being at least partially completed. Non-player characters (NPCs) populate the \n",
    "    world and can be interacted with in a number of ways: the player may engage them in conversation, \n",
    "    marry an eligible NPC, kill them or engage in a nonlethal \"brawl\". The player may \n",
    "    choose to join factions which are organized groups of NPCs — for example, the Dark Brotherhood, a band \n",
    "    of assassins. Each of the factions has an associated quest path to progress through. Each city and town \n",
    "    in the game world has jobs that the player can engage in, such as farming.\n",
    "    Players have the option to develop their character. At the beginning of the game, players create \n",
    "    their character by selecting their sex and choosing between one of several races including humans, \n",
    "    orcs, elves, and anthropomorphic cat or lizard-like creatures and then customizing their character's \n",
    "    appearance. Over the course of the game, players improve their character's skills which are numerical \n",
    "    representations of their ability in certain areas. There are eighteen skills divided evenly among the \n",
    "    three schools of combat, magic, and stealth. When players have trained skills enough to meet the \n",
    "    required experience, their character levels up. Health is depleted primarily when the player \n",
    "    takes damage and the loss of all health results in death. Magicka is depleted by the use of spells, \n",
    "    certain poisons and by being struck by lightning-based attacks. Stamina determines the player's \n",
    "    effectiveness in combat and is depleted by sprinting, performing heavy \"power attacks\" \n",
    "    and being struck by frost-based attacks. Skyrim is the first entry in The Elder Scrolls to \n",
    "    include dragons in the game's wilderness. Like other creatures, dragons are generated randomly in \n",
    "    the world and will engage in combat with NPCs, creatures and the player. Some dragons may attack \n",
    "    cities and towns when in their proximity. The player character can absorb the souls of dragons \n",
    "    in order to use powerful spells called \"dragon shouts\" or \"Thu'um\". A regeneration \n",
    "    period limits the player's use of shouts in gameplay.\n",
    "    Skyrim is set around 200 years after the events of The Elder Scrolls IV: Oblivion, although it is \n",
    "    not a direct sequel. The game takes place in Skyrim, a province of the Empire on the continent of \n",
    "    Tamriel, amid a civil war between two factions: the Stormcloaks, led by Ulfric Stormcloak, and the \n",
    "    Imperial Legion, led by General Tullius. The player character is a Dragonborn, a mortal born with \n",
    "    the soul and power of a dragon. Alduin, a large black dragon who returns to the land after being \n",
    "    lost in time, serves as the game's primary antagonist. Alduin is the first dragon created by Akatosh, \n",
    "    one of the series' gods, and is prophesied to destroy and consume the world.\"\"\""
   ]
  },
  {
   "cell_type": "code",
   "execution_count": 6,
   "id": "ce6f0779",
   "metadata": {},
   "outputs": [],
   "source": [
    "\n",
    "def normalize_document(doc):\n",
    "    doc = re.sub(r'[^a-zA-Z\\s]', '', doc, re.I|re.A)\n",
    "    doc = doc.lower()\n",
    "    doc = doc.strip()\n",
    "    tokens = nltk.word_tokenize(doc)\n",
    "    filtered_tokens = [token for token in tokens if token not in stop_words]\n",
    "    porter = PorterStemmer()\n",
    "    filtered_tokens = [porter.stem(word) for word in filtered_tokens]\n",
    "    doc = ' '.join(filtered_tokens)\n",
    "    return doc\n",
    "\n",
    "normalize_corpus = np.vectorize(normalize_document)"
   ]
  },
  {
   "cell_type": "code",
   "execution_count": 6,
   "id": "7ba38642",
   "metadata": {},
   "outputs": [],
   "source": [
    "def low_rank_svd(matrix, singular_count=10):\n",
    "    u, s, vt = svds(matrix, k=singular_count)\n",
    "    return u, s, vt"
   ]
  },
  {
   "cell_type": "code",
   "execution_count": 7,
   "id": "6de4297e",
   "metadata": {},
   "outputs": [],
   "source": [
    "def lsa(text,threshold=0.5):\n",
    "    text = re.sub(r'\\n|\\r', ' ', text)\n",
    "    text = re.sub(r' +', ' ', text)\n",
    "    text = text.strip()\n",
    "    sentences = nltk.sent_tokenize(text)\n",
    "\n",
    "    norm_sentences = normalize_corpus(sentences)\n",
    "    \n",
    "    tv = TfidfVectorizer(min_df=0., max_df=1., use_idf=True)\n",
    "    dt_matrix = tv.fit_transform(norm_sentences)\n",
    "    dt_matrix = dt_matrix.toarray()\n",
    "\n",
    "    vocab = tv.get_feature_names_out()\n",
    "    td_matrix = dt_matrix.T\n",
    "    num_sentences = int(len(nltk.sent_tokenize(text)) * threshold)\n",
    "    num_topics = 1\n",
    "\n",
    "    u, s, vt = low_rank_svd(td_matrix, singular_count=num_topics)  \n",
    "    term_topic_mat, singular_values, topic_document_mat = u, s, vt\n",
    "\n",
    "    sv_threshold = threshold\n",
    "    salience_scores = np.sqrt(np.dot(np.square(singular_values), np.square(topic_document_mat)))\n",
    "    min_sigma_value = sv_threshold * mean(salience_scores)\n",
    "    salience_scores[salience_scores<=min_sigma_value]=0\n",
    "    top_sentence_indices = (-salience_scores).argsort()[salience_scores!=0]\n",
    "    top_sentence_indices.sort()\n",
    "    summary='\\n'.join(np.array(sentences)[top_sentence_indices])\n",
    "\n",
    "    return summary"
   ]
  },
  {
   "cell_type": "code",
   "execution_count": 16,
   "id": "7dbf403a",
   "metadata": {},
   "outputs": [
    {
     "name": "stdout",
     "output_type": "stream",
     "text": [
      "[ 0  1  2  3  4  5  8  9 11 12 13 14 15 16 17 18 19 20 21 23 24 25 26 29\n",
      " 30 31 33 34]\n"
     ]
    },
    {
     "data": {
      "text/plain": [
       "'The Elder Scrolls V: Skyrim is an action role-playing video game developed by Bethesda Game Studios and published by Bethesda Softworks.\\nIt is the fifth main installment in The Elder Scrolls series, following The Elder Scrolls IV: Oblivion.\\nThe game\\'s main story revolves around the player character\\'s quest to defeat Alduin the World-Eater, a dragon who is prophesied to destroy the world.\\nThe game is set 200 years after the events of Oblivion and takes place in the fictional province of Skyrim.\\nOver the course of the game, the player completes quests and develops the character by improving skills.\\nThe game continues the open-world tradition of its predecessors by allowing the player to travel anywhere in the game world at any time, and to ignore or postpone the main storyline indefinitely.\\nThe Elder Scrolls V: Skyrim is an action role-playing game, playable from either a first or third-person perspective.\\nThe player may freely roam over the land of Skyrim which is an open world environment consisting of wilderness expanses, dungeons, cities, towns, fortresses, and villages.\\nThe game\\'s main quest can be completed or ignored at the player\\'s preference after the first stage of the quest is finished.\\nHowever, some quests rely on the main storyline being at least partially completed.\\nNon-player characters (NPCs) populate the world and can be interacted with in a number of ways: the player may engage them in conversation, marry an eligible NPC, kill them or engage in a nonlethal \"brawl\".\\nThe player may choose to join factions which are organized groups of NPCs — for example, the Dark Brotherhood, a band of assassins.\\nEach of the factions has an associated quest path to progress through.\\nEach city and town in the game world has jobs that the player can engage in, such as farming.\\nPlayers have the option to develop their character.\\nAt the beginning of the game, players create their character by selecting their sex and choosing between one of several races including humans, orcs, elves, and anthropomorphic cat or lizard-like creatures and then customizing their character\\'s appearance.\\nOver the course of the game, players improve their character\\'s skills which are numerical representations of their ability in certain areas.\\nThere are eighteen skills divided evenly among the three schools of combat, magic, and stealth.\\nWhen players have trained skills enough to meet the required experience, their character levels up.\\nMagicka is depleted by the use of spells, certain poisons and by being struck by lightning-based attacks.\\nStamina determines the player\\'s effectiveness in combat and is depleted by sprinting, performing heavy \"power attacks\" and being struck by frost-based attacks.\\nSkyrim is the first entry in The Elder Scrolls to include dragons in the game\\'s wilderness.\\nLike other creatures, dragons are generated randomly in the world and will engage in combat with NPCs, creatures and the player.\\nA regeneration period limits the player\\'s use of shouts in gameplay.\\nSkyrim is set around 200 years after the events of The Elder Scrolls IV: Oblivion, although it is not a direct sequel.\\nThe game takes place in Skyrim, a province of the Empire on the continent of Tamriel, amid a civil war between two factions: the Stormcloaks, led by Ulfric Stormcloak, and the Imperial Legion, led by General Tullius.\\nAlduin, a large black dragon who returns to the land after being lost in time, serves as the game\\'s primary antagonist.\\nAlduin is the first dragon created by Akatosh, one of the series\\' gods, and is prophesied to destroy and consume the world.'"
      ]
     },
     "execution_count": 16,
     "metadata": {},
     "output_type": "execute_result"
    }
   ],
   "source": [
    "lsa(text)"
   ]
  },
  {
   "cell_type": "code",
   "execution_count": 23,
   "id": "7e328446",
   "metadata": {},
   "outputs": [
    {
     "name": "stdout",
     "output_type": "stream",
     "text": [
      "{'f': 0.1764705882352941, 'p': 0.09722222222222222, 'r': 0.9545454545454546}\n",
      "{'f': 0.34615384615384615, 'p': 0.226890756302521, 'r': 0.7297297297297297}\n",
      "{'f': 0.36363636363636365, 'p': 0.2537313432835821, 'r': 0.6415094339622641}\n",
      "{'f': 0.3589743589743589, 'p': 0.2692307692307692, 'r': 0.5384615384615384}\n",
      "{'f': 0.15300546448087432, 'p': 0.08450704225352113, 'r': 0.8076923076923077}\n",
      "{'f': 0.1288135593220339, 'p': 0.07050092764378478, 'r': 0.7450980392156863}\n",
      "{'f': 0.09523809523809525, 'p': 0.05194805194805195, 'r': 0.5714285714285714}\n"
     ]
    }
   ],
   "source": [
    "import rouge\n",
    "def rouge_scoring(hypothesis, reference, max_n = 1, alpha = 0.5, score = 'F1'):\n",
    "      \n",
    "      evaluator = rouge.Rouge(metrics = ['rouge-n'],\n",
    "                           max_n = max_n,\n",
    "                           limit_length = False,\n",
    "                           alpha = alpha, # Default F1_score\n",
    "                           stemming = True)\n",
    "      if score == 'F1':\n",
    "          score_entry = 'f'\n",
    "      elif score == 'Precision':\n",
    "          score_entry = 'p'\n",
    "      else:\n",
    "          score == 'Recall'\n",
    "          score_entry = 'r'\n",
    "  \n",
    "      rouge_score = evaluator.get_scores(hypothesis, reference)['rouge-' + str(max_n)]\n",
    "\n",
    "      return rouge_score\n",
    "\n",
    "# 12168,34861,87066,13950,40082,84878,87026\n",
    "idxs=[12168,34861,87066,13950,40082,84878,87026]\n",
    "for idx in idxs:\n",
    "    article = corpus.loc[idx, 'article']\n",
    "    reference_summary = corpus.loc[idx, 'summary']\n",
    "    hypothesis_summary = lsa(article,0.9)\n",
    "    # nice_print(article, reference_summary, hypothesis_summary)\n",
    "    print(rouge_scoring(hypothesis_summary,reference_summary))"
   ]
  },
  {
   "cell_type": "code",
   "execution_count": null,
   "id": "c9118e90",
   "metadata": {},
   "outputs": [],
   "source": []
  },
  {
   "cell_type": "code",
   "execution_count": 13,
   "id": "b0dc6eef",
   "metadata": {},
   "outputs": [],
   "source": [
    "def nice_print(article, reference_summary, hypothesis_summary, width  = 300):\n",
    "  dedented_text = lambda text: textwrap.dedent(text).strip()\n",
    "  if article:\n",
    "    print('ARTICLE')\n",
    "    print(textwrap.fill(dedented_text(article), width=width), '\\n')\n",
    "  if reference_summary:\n",
    "    print('REFERENCE SUMMARY: Summary from Dataset')\n",
    "    print(textwrap.fill(dedented_text(reference_summary), width=width), '\\n')\n",
    "  if hypothesis_summary:\n",
    "    print('HYPOTHESIS SUMMARY : Summary generated from Algorithm')\n",
    "    print(textwrap.fill(dedented_text(hypothesis_summary), width=width), '\\n')"
   ]
  },
  {
   "cell_type": "code",
   "execution_count": 14,
   "id": "84aafdee",
   "metadata": {},
   "outputs": [],
   "source": [
    "import rouge\n",
    "def rouge_scoring(hypothesis, reference, max_n = 1, alpha = 0.5, score = 'F1'):\n",
    "      \n",
    "      evaluator = rouge.Rouge(metrics = ['rouge-n'],\n",
    "                           max_n = max_n,\n",
    "                           limit_length = False,\n",
    "                           alpha = alpha, # Default F1_score\n",
    "                           stemming = True)\n",
    "      if score == 'F1':\n",
    "          score_entry = 'f'\n",
    "      elif score == 'Precision':\n",
    "          score_entry = 'p'\n",
    "      else:\n",
    "          score == 'Recall'\n",
    "          score_entry = 'r'\n",
    "  \n",
    "      rouge_score = evaluator.get_scores(hypothesis, reference)['rouge-' + str(max_n)]\n",
    "\n",
    "      return rouge_score"
   ]
  },
  {
   "cell_type": "code",
   "execution_count": 15,
   "id": "fdc3e217",
   "metadata": {},
   "outputs": [
    {
     "name": "stdout",
     "output_type": "stream",
     "text": [
      "69114\n",
      "ARTICLE\n",
      "A blond girl found in Greece whose birth parents were traced to a Bulgarian Roma village will be cared for by a foster family when she's returned to Bulgaria, the government's social services agency said  Maria, as the girl was known by the Roma couple with whom she was living in central Greece, was\n",
      "at the center of an international mystery after police discovered her.  DNA tests eventually showed that Saska Ruseva and her husband, Atanas Rusev, were her biological parents.  Her mother told CNN that she wants her child back -- but that seems unlikely to happen for now.  Maria, now being cared\n",
      "for by Greek children's charity Smile of a Child, will instead be cared for by a foster family.  The parents and their nine children have been living in poverty in a tumbledown, one-room mud brick house in the village of Nikolaevo, in central Bulgaria.  Emil Todorov, director of the Children\n",
      "Protection Department of Bulgaria's Agency for Social Assistance, told CNN it was not yet clear what documents Maria would arrive with.  Bulgaria's State Child Protection Agency has yet to say exactly when and how the girl will be brought from Greece, he said. Her interactions with her birth family\n",
      "will be determined by who is named as her legal guardian, he said.  The Agency for Social Assistance is also taking action to care for the Bulgarian parents' seven underage children.  The two youngest, ages 2 and 3, will stay with one foster family, said Todorov. Two other children will stay with\n",
      "another foster family, and a 15-year-old will stay with family members.  The remaining two, ages 8 and 12, will be staying at a specialized institution, because no appropriate foster families are available to take them in, he said.  Working with the parents  The placement of the children in foster\n",
      "care is only a temporary stage, Todorov said.  The goal is to give the parents the chance to improve their living conditions -- in which case they can be reunited with their children. Social services will help the parents find a job, he said.  \"We have to work with both parents, so that they can\n",
      "expand their parental potential,\" said Todorov.  While the children are in foster care, social workers will encourage frequent meetings with their parents, so that the family maintains its emotional connection, he said.  \"We don't take away the children,\" he said. \"We count on the collaboration by\n",
      "the whole family to cope with this difficult situation.\"  The Agency for Social Assistance said it had determined the parents had another child too, who was \"abandoned by her parents and raised by a family in another city.\"  Bulgarian police are investigating the Rusevs on suspicion they sold Maria\n",
      "for illegal adoption. A Greek Roma couple -- Christos Salis and Eleftheria Dimopoulo -- who were found looking after the girl are in custody, charged with kidnapping.  Daughter given away, says mother  Ruseva told CNN that she and her husband left for Greece in 2009 to look for farm work. She says\n",
      "she left her eldest daughter Katia, now 20 years old, to care for the family while they were away.  Ruseva says she was so thin she did not realize she was pregnant with Maria. \"I didn't know I was pregnant. I didn't even have a belly,\" she said.  Maria -- whom Ruseva originally named Stanka -- was\n",
      "born in a hospital in the Greek town of Lamia, about 70 kilometers (44 miles) from Farsala and the Roma camp where she was discovered this month.  Ruseva said she cared for Maria for seven months while her husband worked in poorly paying odd jobs, picking fruit and vegetables. They often slept in\n",
      "the streets or nearby olive groves, as they had so little money.  Then one day, when they took a job picking oranges, a woman offered to take care of their daughter and they gave her to the woman because they couldn't care for her themselves, Ruseva said. She denies selling the baby, saying she\n",
      "loves her and wants her back.  CNN's Karl Penhaul contributed to this report. \n",
      "\n",
      "REFERENCE SUMMARY: Summary from Dataset\n",
      "Social workers will try to help parents improve living conditions so children can return.  Maria will be cared for by a foster family in Bulgaria, authorities there say.  Her birth parents were found to be a Roma couple in Bulgaria.  The couple's other underage children will now be cared for by\n",
      "authorities. \n",
      "\n",
      "HYPOTHESIS SUMMARY : Summary generated from Algorithm\n",
      "A blond girl found in Greece whose birth parents were traced to a Bulgarian Roma village will be cared for by a foster family when she's returned to Bulgaria, the government's social services agency said Maria, as the girl was known by the Roma couple with whom she was living in central Greece, was\n",
      "at the center of an international mystery after police discovered her. Her mother told CNN that she wants her child back -- but that seems unlikely to happen for now. Maria, now being cared for by Greek children's charity Smile of a Child, will instead be cared for by a foster family. The parents\n",
      "and their nine children have been living in poverty in a tumbledown, one-room mud brick house in the village of Nikolaevo, in central Bulgaria. Emil Todorov, director of the Children Protection Department of Bulgaria's Agency for Social Assistance, told CNN it was not yet clear what documents Maria\n",
      "would arrive with. Her interactions with her birth family will be determined by who is named as her legal guardian, he said. The Agency for Social Assistance is also taking action to care for the Bulgarian parents' seven underage children. The two youngest, ages 2 and 3, will stay with one foster\n",
      "family, said Todorov. Two other children will stay with another foster family, and a 15-year-old will stay with family members. The remaining two, ages 8 and 12, will be staying at a specialized institution, because no appropriate foster families are available to take them in, he said. Working with\n",
      "the parents The placement of the children in foster care is only a temporary stage, Todorov said. Social services will help the parents find a job, he said. \"We have to work with both parents, so that they can expand their parental potential,\" said Todorov. \"We don't take away the children,\" he\n",
      "said. Daughter given away, says mother Ruseva told CNN that she and her husband left for Greece in 2009 to look for farm work. She says she left her eldest daughter Katia, now 20 years old, to care for the family while they were away. \"I didn't know I was pregnant. They often slept in the streets or\n",
      "nearby olive groves, as they had so little money. Then one day, when they took a job picking oranges, a woman offered to take care of their daughter and they gave her to the woman because they couldn't care for her themselves, Ruseva said. She denies selling the baby, saying she loves her and wants\n",
      "her back. \n",
      "\n",
      "{'rouge-1': {'f': 0.4774193548387097, 'p': 0.3627450980392157, 'r': 0.6981132075471698}}\n"
     ]
    }
   ],
   "source": [
    "# idx = corpus.sample(1).index[0]\n",
    "idx=69114\n",
    "print(idx)\n",
    "article = corpus.loc[idx, 'article']\n",
    "reference_summary = corpus.loc[idx, 'summary']\n",
    "hypothesis_summary = lsa(article)\n",
    "nice_print(article, reference_summary, hypothesis_summary)\n",
    "\n",
    "\n",
    "\n",
    "\n",
    "evaluator = rouge.Rouge(metrics = ['rouge-n'],\n",
    "                           max_n = 1,\n",
    "                           limit_length = True,\n",
    "                           length_limit = 100,\n",
    "                           length_limit_type = 'words',\n",
    "                           alpha = 0.5, # Default F1_score\n",
    "                           stemming=True)\n",
    "\n",
    "hypothesis = hypothesis_summary\n",
    "reference = reference_summary\n",
    "\n",
    "scores = evaluator.get_scores(hypothesis, reference)\n",
    "print(scores) "
   ]
  },
  {
   "cell_type": "code",
   "execution_count": 16,
   "id": "7acd8049",
   "metadata": {},
   "outputs": [
    {
     "name": "stdout",
     "output_type": "stream",
     "text": [
      "ARTICLE\n",
      "A blond girl found in Greece whose birth parents were traced to a Bulgarian Roma village will be cared for by a foster family when she's returned to Bulgaria, the government's social services agency said  Maria, as the girl was known by the Roma couple with whom she was living in central Greece, was\n",
      "at the center of an international mystery after police discovered her.  DNA tests eventually showed that Saska Ruseva and her husband, Atanas Rusev, were her biological parents.  Her mother told CNN that she wants her child back -- but that seems unlikely to happen for now.  Maria, now being cared\n",
      "for by Greek children's charity Smile of a Child, will instead be cared for by a foster family.  The parents and their nine children have been living in poverty in a tumbledown, one-room mud brick house in the village of Nikolaevo, in central Bulgaria.  Emil Todorov, director of the Children\n",
      "Protection Department of Bulgaria's Agency for Social Assistance, told CNN it was not yet clear what documents Maria would arrive with.  Bulgaria's State Child Protection Agency has yet to say exactly when and how the girl will be brought from Greece, he said. Her interactions with her birth family\n",
      "will be determined by who is named as her legal guardian, he said.  The Agency for Social Assistance is also taking action to care for the Bulgarian parents' seven underage children.  The two youngest, ages 2 and 3, will stay with one foster family, said Todorov. Two other children will stay with\n",
      "another foster family, and a 15-year-old will stay with family members.  The remaining two, ages 8 and 12, will be staying at a specialized institution, because no appropriate foster families are available to take them in, he said.  Working with the parents  The placement of the children in foster\n",
      "care is only a temporary stage, Todorov said.  The goal is to give the parents the chance to improve their living conditions -- in which case they can be reunited with their children. Social services will help the parents find a job, he said.  \"We have to work with both parents, so that they can\n",
      "expand their parental potential,\" said Todorov.  While the children are in foster care, social workers will encourage frequent meetings with their parents, so that the family maintains its emotional connection, he said.  \"We don't take away the children,\" he said. \"We count on the collaboration by\n",
      "the whole family to cope with this difficult situation.\"  The Agency for Social Assistance said it had determined the parents had another child too, who was \"abandoned by her parents and raised by a family in another city.\"  Bulgarian police are investigating the Rusevs on suspicion they sold Maria\n",
      "for illegal adoption. A Greek Roma couple -- Christos Salis and Eleftheria Dimopoulo -- who were found looking after the girl are in custody, charged with kidnapping.  Daughter given away, says mother  Ruseva told CNN that she and her husband left for Greece in 2009 to look for farm work. She says\n",
      "she left her eldest daughter Katia, now 20 years old, to care for the family while they were away.  Ruseva says she was so thin she did not realize she was pregnant with Maria. \"I didn't know I was pregnant. I didn't even have a belly,\" she said.  Maria -- whom Ruseva originally named Stanka -- was\n",
      "born in a hospital in the Greek town of Lamia, about 70 kilometers (44 miles) from Farsala and the Roma camp where she was discovered this month.  Ruseva said she cared for Maria for seven months while her husband worked in poorly paying odd jobs, picking fruit and vegetables. They often slept in\n",
      "the streets or nearby olive groves, as they had so little money.  Then one day, when they took a job picking oranges, a woman offered to take care of their daughter and they gave her to the woman because they couldn't care for her themselves, Ruseva said. She denies selling the baby, saying she\n",
      "loves her and wants her back.  CNN's Karl Penhaul contributed to this report. \n",
      "\n",
      "REFERENCE SUMMARY: Summary from Dataset\n",
      "Social workers will try to help parents improve living conditions so children can return.  Maria will be cared for by a foster family in Bulgaria, authorities there say.  Her birth parents were found to be a Roma couple in Bulgaria.  The couple's other underage children will now be cared for by\n",
      "authorities. \n",
      "\n",
      "HYPOTHESIS SUMMARY : Summary generated from Algorithm\n",
      "A blond girl found in Greece whose birth parents were traced to a Bulgarian Roma village will be cared for by a foster family when she's returned to Bulgaria, the government's social services agency said Maria, as the girl was known by the Roma couple with whom she was living in central Greece, was\n",
      "at the center of an international mystery after police discovered her. Her mother told CNN that she wants her child back -- but that seems unlikely to happen for now. Maria, now being cared for by Greek children's charity Smile of a Child, will instead be cared for by a foster family. The parents\n",
      "and their nine children have been living in poverty in a tumbledown, one-room mud brick house in the village of Nikolaevo, in central Bulgaria. Emil Todorov, director of the Children Protection Department of Bulgaria's Agency for Social Assistance, told CNN it was not yet clear what documents Maria\n",
      "would arrive with. Her interactions with her birth family will be determined by who is named as her legal guardian, he said. The Agency for Social Assistance is also taking action to care for the Bulgarian parents' seven underage children. The two youngest, ages 2 and 3, will stay with one foster\n",
      "family, said Todorov. Two other children will stay with another foster family, and a 15-year-old will stay with family members. The remaining two, ages 8 and 12, will be staying at a specialized institution, because no appropriate foster families are available to take them in, he said. Working with\n",
      "the parents The placement of the children in foster care is only a temporary stage, Todorov said. Social services will help the parents find a job, he said. \"We have to work with both parents, so that they can expand their parental potential,\" said Todorov. \"We don't take away the children,\" he\n",
      "said. Daughter given away, says mother Ruseva told CNN that she and her husband left for Greece in 2009 to look for farm work. She says she left her eldest daughter Katia, now 20 years old, to care for the family while they were away. \"I didn't know I was pregnant. They often slept in the streets or\n",
      "nearby olive groves, as they had so little money. Then one day, when they took a job picking oranges, a woman offered to take care of their daughter and they gave her to the woman because they couldn't care for her themselves, Ruseva said. She denies selling the baby, saying she loves her and wants\n",
      "her back. \n",
      "\n",
      "{'f': 0.1851851851851852, 'p': 0.10392609699769054, 'r': 0.8490566037735849}\n",
      "ARTICLE\n",
      "The 103 Chadian children whom six French charity workers were convicted of attempting to kidnap will soon be reunited with their families, the United Nations' children agency said Friday.  Some of the 103 children who were nearly abducted by a French charity, pictured in Abeche in November 2007.\n",
      "The children have been living in an orphanage in Abeche, in eastern Chad, since late October. Chadian authorities arrested the Zoe's Ark aid workers as they earlier tried to leave the central African country with the children on a Paris-bound plane, the United Nations Children's Fund said.  The\n",
      "charity had said the children were orphans from Sudan's war-torn Darfur region and were being taken to foster families in France. However, other charities determined that most of the children were from Chad, not Sudan, and had at least one living parent.  Beginning next week, a UNICEF team will\n",
      "travel to Abeche, Adre and Tine to facilitate reuniting the 21 girls and 82 boys, aged 1 to 10, with their families. Chad's government has approved the move, UNICEF said.  Interviews with the children indicated that the majority were from villages near the cities of Adre and Tine along the Chadian-\n",
      "Sudanese border, according to a November statement from the Red Cross, UNICEF, and the U.N. High Commissioner for Refugees.  The kidnapping scandal attracted international attention, with French authorities reacting angrily to the charity's trip, calling the group's actions \"illegal and\n",
      "irresponsible.\"  However, French President Nicolas Sarkozy intervened on the six's behalf after a Chadian court sentenced the six aid workers to eight years of hard labor in Chad, and the central African nation handed them over to France to serve their sentences.  In late January, a French court\n",
      "sentenced Eric Breteau -- the group's leader -- Emilie Lelouch, Alain Peligat, Philippe van Winkelberg, Dominique Aubry and Nadia Merimi to eight years in a French prison. E-mail to a friend \n",
      "\n",
      "REFERENCE SUMMARY: Summary from Dataset\n",
      "The 103 children taken by French aid workers to be reunited with families soon.  The 21 girls and 82 boys, aged 1-10, will be handed over to relatives in Chad.  They have been in orphanage in Chadian town of Abeche since late October.  Six Zoe's Ark workers were convicted on kidnapping charges in\n",
      "December. \n",
      "\n",
      "HYPOTHESIS SUMMARY : Summary generated from Algorithm\n",
      "The 103 Chadian children whom six French charity workers were convicted of attempting to kidnap will soon be reunited with their families, the United Nations' children agency said Friday. Some of the 103 children who were nearly abducted by a French charity, pictured in Abeche in November 2007. The\n",
      "children have been living in an orphanage in Abeche, in eastern Chad, since late October. Chadian authorities arrested the Zoe's Ark aid workers as they earlier tried to leave the central African country with the children on a Paris-bound plane, the United Nations Children's Fund said. The charity\n",
      "had said the children were orphans from Sudan's war-torn Darfur region and were being taken to foster families in France. Interviews with the children indicated that the majority were from villages near the cities of Adre and Tine along the Chadian-Sudanese border, according to a November statement\n",
      "from the Red Cross, UNICEF, and the U.N. High Commissioner for Refugees. The kidnapping scandal attracted international attention, with French authorities reacting angrily to the charity's trip, calling the group's actions \"illegal and irresponsible.\" However, French President Nicolas Sarkozy\n",
      "intervened on the six's behalf after a Chadian court sentenced the six aid workers to eight years of hard labor in Chad, and the central African nation handed them over to France to serve their sentences. \n",
      "\n",
      "{'f': 0.31578947368421056, 'p': 0.1965065502183406, 'r': 0.8035714285714286}\n"
     ]
    }
   ],
   "source": [
    "idxs=[69114,65351]\n",
    "for idx in idxs:\n",
    "    article = corpus.loc[idx, 'article']\n",
    "    reference_summary = corpus.loc[idx, 'summary']\n",
    "    hypothesis_summary = lsa(article)\n",
    "    nice_print(article, reference_summary, hypothesis_summary)\n",
    "    print(rouge_scoring(hypothesis_summary,reference_summary))"
   ]
  },
  {
   "cell_type": "code",
   "execution_count": 32,
   "id": "3bf04ee5",
   "metadata": {},
   "outputs": [],
   "source": [
    "def run_on_corpus(df,thresholds,n_predictions):\n",
    "\n",
    "  t0 = time.time()\n",
    "  sampling_interval = len(df) // n_predictions\n",
    "  index = df.index[::sampling_interval][:n_predictions]\n",
    "  data = df.loc[index, 'summary']\n",
    "  predictions = pd.DataFrame( data = data.values , columns = ['reference'], index = index)\n",
    "  \n",
    "  for threshold in thresholds:\n",
    "    predicted_column = str(\"LSA\") + \"_\" + str(\"@\")+str(threshold)\n",
    "    print('Prediction colum: {}'.format(predicted_column))\n",
    "    predictions.loc[index, predicted_column] = df.loc[index, 'article'].apply(lsa,threshold=float(threshold))\n",
    "    print('Time taken {:.2f} minutes'.format((time.time() - t0)/60))\n",
    "              \n",
    "    \n",
    "  print()\n",
    "  print('Total time to execute: {:.2f} minutes'.format((time.time() - t0)/60))\n",
    "  return predictions"
   ]
  },
  {
   "cell_type": "code",
   "execution_count": 33,
   "id": "02167084",
   "metadata": {},
   "outputs": [
    {
     "name": "stdout",
     "output_type": "stream",
     "text": [
      "Prediction colum: LSA_@0.2\n",
      "Time taken 2.23 minutes\n",
      "Prediction colum: LSA_@0.4\n",
      "Time taken 4.47 minutes\n",
      "Prediction colum: LSA_@0.6\n",
      "Time taken 6.70 minutes\n",
      "Prediction colum: LSA_@0.8\n",
      "Time taken 8.93 minutes\n",
      "Prediction colum: LSA_@1\n",
      "Time taken 11.25 minutes\n",
      "\n",
      "Total time to execute: 11.25 minutes\n"
     ]
    }
   ],
   "source": [
    "n_predictions = 10000\n",
    "thresholds=[0.2,0.4,0.6,0.8,1]\n",
    "predictions_test = run_on_corpus(corpus,thresholds,n_predictions)\n",
    "\n"
   ]
  },
  {
   "cell_type": "code",
   "execution_count": 34,
   "id": "d5fddcc1",
   "metadata": {},
   "outputs": [
    {
     "data": {
      "text/html": [
       "<div>\n",
       "<style scoped>\n",
       "    .dataframe tbody tr th:only-of-type {\n",
       "        vertical-align: middle;\n",
       "    }\n",
       "\n",
       "    .dataframe tbody tr th {\n",
       "        vertical-align: top;\n",
       "    }\n",
       "\n",
       "    .dataframe thead th {\n",
       "        text-align: right;\n",
       "    }\n",
       "</style>\n",
       "<table border=\"1\" class=\"dataframe\">\n",
       "  <thead>\n",
       "    <tr style=\"text-align: right;\">\n",
       "      <th></th>\n",
       "      <th>reference</th>\n",
       "      <th>LSA_@0.2</th>\n",
       "      <th>LSA_@0.4</th>\n",
       "      <th>LSA_@0.6</th>\n",
       "      <th>LSA_@0.8</th>\n",
       "      <th>LSA_@1</th>\n",
       "    </tr>\n",
       "  </thead>\n",
       "  <tbody>\n",
       "    <tr>\n",
       "      <th>46356</th>\n",
       "      <td>The Pentagon will report on Army suicide rates...</td>\n",
       "      <td>The U.S. Army hopes it can do a better job of ...</td>\n",
       "      <td>The U.S. Army hopes it can do a better job of ...</td>\n",
       "      <td>The U.S. Army hopes it can do a better job of ...</td>\n",
       "      <td>The U.S. Army hopes it can do a better job of ...</td>\n",
       "      <td>The U.S. Army hopes it can do a better job of ...</td>\n",
       "    </tr>\n",
       "    <tr>\n",
       "      <th>90460</th>\n",
       "      <td>Clinton, Mullen say U.S., Pakistan must conti...</td>\n",
       "      <td>Adm. Mike Mullen, chairman of the Joint Chiefs...</td>\n",
       "      <td>Adm. Mike Mullen, chairman of the Joint Chiefs...</td>\n",
       "      <td>Adm. Mike Mullen, chairman of the Joint Chiefs...</td>\n",
       "      <td>Adm. Mike Mullen, chairman of the Joint Chiefs...</td>\n",
       "      <td>Adm. Mike Mullen, chairman of the Joint Chiefs...</td>\n",
       "    </tr>\n",
       "    <tr>\n",
       "      <th>63302</th>\n",
       "      <td>NYPD commissioner: Chiefs need to embrace need...</td>\n",
       "      <td>Confidence.\\nPassion.\\nSmith is the police chi...</td>\n",
       "      <td>Confidence.\\nPassion.\\nSmith is the police chi...</td>\n",
       "      <td>Confidence.\\nPassion.\\nSmith is the police chi...</td>\n",
       "      <td>Confidence.\\nPassion.\\nSmith is the police chi...</td>\n",
       "      <td>Confidence.\\nPassion.\\nSmith is the police chi...</td>\n",
       "    </tr>\n",
       "    <tr>\n",
       "      <th>38572</th>\n",
       "      <td>Recent moments in pop culture show women takin...</td>\n",
       "      <td>They all said no.\\nShe was disappointed.\\nBody...</td>\n",
       "      <td>They all said no.\\nShe was disappointed.\\nBody...</td>\n",
       "      <td>They all said no.\\nShe was disappointed.\\nBody...</td>\n",
       "      <td>They all said no.\\nShe was disappointed.\\nBody...</td>\n",
       "      <td>They all said no.\\nShe was disappointed.\\nBody...</td>\n",
       "    </tr>\n",
       "    <tr>\n",
       "      <th>5624</th>\n",
       "      <td>Al Qaeda's involvement with a kidnapping woul...</td>\n",
       "      <td>In the eighth episode of a series called \"A Me...</td>\n",
       "      <td>In the eighth episode of a series called \"A Me...</td>\n",
       "      <td>In the eighth episode of a series called \"A Me...</td>\n",
       "      <td>In the eighth episode of a series called \"A Me...</td>\n",
       "      <td>In the eighth episode of a series called \"A Me...</td>\n",
       "    </tr>\n",
       "  </tbody>\n",
       "</table>\n",
       "</div>"
      ],
      "text/plain": [
       "                                               reference  \\\n",
       "46356  The Pentagon will report on Army suicide rates...   \n",
       "90460   Clinton, Mullen say U.S., Pakistan must conti...   \n",
       "63302  NYPD commissioner: Chiefs need to embrace need...   \n",
       "38572  Recent moments in pop culture show women takin...   \n",
       "5624    Al Qaeda's involvement with a kidnapping woul...   \n",
       "\n",
       "                                                LSA_@0.2  \\\n",
       "46356  The U.S. Army hopes it can do a better job of ...   \n",
       "90460  Adm. Mike Mullen, chairman of the Joint Chiefs...   \n",
       "63302  Confidence.\\nPassion.\\nSmith is the police chi...   \n",
       "38572  They all said no.\\nShe was disappointed.\\nBody...   \n",
       "5624   In the eighth episode of a series called \"A Me...   \n",
       "\n",
       "                                                LSA_@0.4  \\\n",
       "46356  The U.S. Army hopes it can do a better job of ...   \n",
       "90460  Adm. Mike Mullen, chairman of the Joint Chiefs...   \n",
       "63302  Confidence.\\nPassion.\\nSmith is the police chi...   \n",
       "38572  They all said no.\\nShe was disappointed.\\nBody...   \n",
       "5624   In the eighth episode of a series called \"A Me...   \n",
       "\n",
       "                                                LSA_@0.6  \\\n",
       "46356  The U.S. Army hopes it can do a better job of ...   \n",
       "90460  Adm. Mike Mullen, chairman of the Joint Chiefs...   \n",
       "63302  Confidence.\\nPassion.\\nSmith is the police chi...   \n",
       "38572  They all said no.\\nShe was disappointed.\\nBody...   \n",
       "5624   In the eighth episode of a series called \"A Me...   \n",
       "\n",
       "                                                LSA_@0.8  \\\n",
       "46356  The U.S. Army hopes it can do a better job of ...   \n",
       "90460  Adm. Mike Mullen, chairman of the Joint Chiefs...   \n",
       "63302  Confidence.\\nPassion.\\nSmith is the police chi...   \n",
       "38572  They all said no.\\nShe was disappointed.\\nBody...   \n",
       "5624   In the eighth episode of a series called \"A Me...   \n",
       "\n",
       "                                                  LSA_@1  \n",
       "46356  The U.S. Army hopes it can do a better job of ...  \n",
       "90460  Adm. Mike Mullen, chairman of the Joint Chiefs...  \n",
       "63302  Confidence.\\nPassion.\\nSmith is the police chi...  \n",
       "38572  They all said no.\\nShe was disappointed.\\nBody...  \n",
       "5624   In the eighth episode of a series called \"A Me...  "
      ]
     },
     "execution_count": 34,
     "metadata": {},
     "output_type": "execute_result"
    }
   ],
   "source": [
    "predictions_test.sample(5)"
   ]
  },
  {
   "cell_type": "code",
   "execution_count": 35,
   "id": "f14a0bb7",
   "metadata": {},
   "outputs": [
    {
     "data": {
      "text/plain": [
       "10000"
      ]
     },
     "execution_count": 35,
     "metadata": {},
     "output_type": "execute_result"
    }
   ],
   "source": [
    "len(predictions_test)"
   ]
  },
  {
   "cell_type": "code",
   "execution_count": 36,
   "id": "b38cf2c8",
   "metadata": {},
   "outputs": [],
   "source": [
    "def calculate_rouge(df, max_n = 1, alpha = 0.5, score = 'F1'):\n",
    "  t0 = time.time()\n",
    "  evaluator = rouge.Rouge(metrics = ['rouge-n'],\n",
    "                           max_n = max_n,\n",
    "                           limit_length = False,\n",
    "                           alpha = alpha, # Default F1_score\n",
    "                           stemming = True)\n",
    "  if score == 'F1':\n",
    "    score_entry = 'f'\n",
    "  elif score == 'Precision':\n",
    "    score_entry = 'p'\n",
    "  else:\n",
    "    score == 'Recall'\n",
    "    score_entry = 'r'\n",
    "    \n",
    "  scores_df = pd.DataFrame()\n",
    "  for column in df.columns[1:]:\n",
    "    score_column = column + '_' + score\n",
    "    for idx in df.index:\n",
    "      hypothesis = df.loc[idx, column]\n",
    "      reference = df.loc[idx, 'reference']\n",
    "      rouge_scores = evaluator.get_scores(hypothesis, reference)\n",
    "      scores_df.loc[idx, score_column] = rouge_scores['rouge-' + str(max_n)][score_entry]\n",
    "\n",
    "  print('Total time to execute: {:.2f} minutes'.format((time.time() - t0)/60))\n",
    "  return scores_df"
   ]
  },
  {
   "cell_type": "code",
   "execution_count": 37,
   "id": "6fce19fb",
   "metadata": {},
   "outputs": [
    {
     "name": "stdout",
     "output_type": "stream",
     "text": [
      "Total time to execute: 7.22 minutes\n"
     ]
    }
   ],
   "source": [
    "max_n = 1\n",
    "alpha = 0.5 # Default F1_score\n",
    "score = 'F1'\n",
    "predictions_scores = calculate_rouge(predictions_test, max_n, alpha, score)"
   ]
  },
  {
   "cell_type": "code",
   "execution_count": 39,
   "id": "621861a0",
   "metadata": {},
   "outputs": [
    {
     "data": {
      "text/plain": [
       "LSA_@0.2_F1    0.185696\n",
       "LSA_@0.4_F1    0.185692\n",
       "LSA_@0.6_F1    0.185703\n",
       "LSA_@0.8_F1    0.185709\n",
       "LSA_@1_F1      0.185694\n",
       "dtype: float64"
      ]
     },
     "execution_count": 39,
     "metadata": {},
     "output_type": "execute_result"
    }
   ],
   "source": [
    "predictions_scores.mean()"
   ]
  },
  {
   "cell_type": "code",
   "execution_count": 105,
   "id": "dfb106e2",
   "metadata": {},
   "outputs": [
    {
     "name": "stderr",
     "output_type": "stream",
     "text": [
      "C:\\Users\\kk910\\AppData\\Local\\Temp\\ipykernel_3132\\1412836247.py:7: UserWarning: \n",
      "\n",
      "`distplot` is a deprecated function and will be removed in seaborn v0.14.0.\n",
      "\n",
      "Please adapt your code to use either `displot` (a figure-level function with\n",
      "similar flexibility) or `histplot` (an axes-level function for histograms).\n",
      "\n",
      "For a guide to updating your code to use the new functions, please see\n",
      "https://gist.github.com/mwaskom/de44147ed2974457ad6372750bbe5751\n",
      "\n",
      "  sns.distplot(predictions_scores[score_column], ax = ax, bins = 25, hist_kws={'alpha':0.5}, label = score_column)\n"
     ]
    },
    {
     "data": {
      "text/plain": [
       "Text(0.5, 1.0, 'F1 score of ')"
      ]
     },
     "execution_count": 105,
     "metadata": {},
     "output_type": "execute_result"
    },
    {
     "data": {
      "image/png": "[encoded data removed]",
      "text/plain": [
       "<Figure size 1200x600 with 1 Axes>"
      ]
     },
     "metadata": {},
     "output_type": "display_data"
    }
   ],
   "source": [
    "score_column = 'LSA_F1_F1'\n",
    "# print('F1 average = {:.4f}'.format(predictions_scores[score_column].max()))\n",
    "# print('F1 standard deviation = {:.4f}'.format(predictions_scores[score_column].std()))\n",
    "\n",
    "\n",
    "_, ax = plt.subplots(figsize = (12,6))\n",
    "sns.distplot(predictions_scores[score_column], ax = ax, bins = 25, hist_kws={'alpha':0.5}, label = score_column)\n",
    "ax.set_xlabel('ROUGE metric')\n",
    "ax.set_title('F1 score of ')"
   ]
  },
  {
   "cell_type": "code",
   "execution_count": 106,
   "id": "695e4369",
   "metadata": {},
   "outputs": [],
   "source": [
    "def  sentence_tokenize(text):\n",
    "     sentence_tokenized = list()\n",
    "     for txt in text.split('.'):\n",
    "          sentence_tokenized += sent_tokenize(txt)\n",
    "     return sentence_tokenized\n",
    "\n",
    "def len_sent_tokenize(text):\n",
    "  return len(sentence_tokenize(text))\n",
    "\n",
    "\n",
    "\n",
    "qty_of_sentences = predictions_test['LSA_F1'].apply(len_sent_tokenize)"
   ]
  },
  {
   "cell_type": "code",
   "execution_count": 85,
   "id": "7fa06811",
   "metadata": {},
   "outputs": [],
   "source": [
    "qty_of_sentences_reference = predictions_test['reference'].apply(len_sent_tokenize)\n",
    "\n",
    "diff_number_of_sentences = qty_of_sentences - qty_of_sentences_reference"
   ]
  },
  {
   "cell_type": "code",
   "execution_count": 86,
   "id": "973cd6bd",
   "metadata": {},
   "outputs": [
    {
     "name": "stdout",
     "output_type": "stream",
     "text": [
      "0        16\n",
      "9        15\n",
      "18       16\n",
      "27       16\n",
      "36       16\n",
      "         ..\n",
      "90649    14\n",
      "90658    16\n",
      "90667    16\n",
      "90676    17\n",
      "90685    16\n",
      "Length: 10000, dtype: int64\n",
      "Max Difference 19\n",
      "Minimum Difference -2\n"
     ]
    }
   ],
   "source": [
    "print(diff_number_of_sentences)\n",
    "print(\"Max Difference\",np.max(diff_number_of_sentences))\n",
    "print(\"Minimum Difference\",np.min(diff_number_of_sentences))"
   ]
  },
  {
   "cell_type": "code",
   "execution_count": 89,
   "id": "1ca2d908",
   "metadata": {},
   "outputs": [
    {
     "data": {
      "image/png": "[encoded data removed]",
      "text/plain": [
       "<Figure size 640x480 with 1 Axes>"
      ]
     },
     "metadata": {},
     "output_type": "display_data"
    }
   ],
   "source": [
    "sns.scatterplot(x = diff_number_of_sentences, \n",
    "            y = predictions_scores['LSA_F1_F1'].values,\n",
    "            alpha =0.5, s = 12)\n",
    "\n",
    "plt.xlabel('Difference of number of sentences between summaries')\n",
    "plt.xlim((0,+20))\n",
    "plt.show()"
   ]
  },
  {
   "cell_type": "code",
   "execution_count": 115,
   "id": "6850c5e7",
   "metadata": {},
   "outputs": [
    {
     "data": {
      "text/plain": [
       "35"
      ]
     },
     "execution_count": 115,
     "metadata": {},
     "output_type": "execute_result"
    }
   ],
   "source": [
    "len(nltk.sent_tokenize(text))"
   ]
  }
 ],
 "metadata": {
  "kernelspec": {
   "display_name": "Python 3",
   "language": "python",
   "name": "python3"
  },
  "language_info": {
   "codemirror_mode": {
    "name": "ipython",
    "version": 3
   },
   "file_extension": ".py",
   "mimetype": "text/x-python",
   "name": "python",
   "nbconvert_exporter": "python",
   "pygments_lexer": "ipython3",
   "version": "3.11.2"
  },
  "papermill": {
   "default_parameters": {},
   "duration": 11.182665,
   "end_time": "2022-09-17T07:45:12.939170",
   "environment_variables": {},
   "exception": null,
   "input_path": "__notebook__.ipynb",
   "output_path": "__notebook__.ipynb",
   "parameters": {},
   "start_time": "2022-09-17T07:45:01.756505",
   "version": "2.3.4"
  }
 },
 "nbformat": 4,
 "nbformat_minor": 5
}
