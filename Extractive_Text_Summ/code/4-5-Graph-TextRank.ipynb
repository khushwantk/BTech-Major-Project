{
 "cells": [
  {
   "cell_type": "code",
   "execution_count": 1,
   "metadata": {},
   "outputs": [],
   "source": [
    "from os import listdir\n",
    "import pandas as pd\n",
    "import time\n",
    "from nltk.corpus import stopwords\n",
    "from nltk.stem import PorterStemmer\n",
    "from nltk.stem.wordnet import WordNetLemmatizer\n",
    "from nltk.tokenize import word_tokenize, sent_tokenize, RegexpTokenizer\n",
    "from nltk.util import ngrams\n",
    "from nltk import pos_tag\n",
    "import re\n",
    "import string\n",
    "import textwrap\n",
    "import numpy as np\n",
    "import matplotlib.pyplot as plt\n",
    "import seaborn as sns\n",
    "from statistics import mean\n",
    "\n",
    "from nltk.cluster.util import cosine_distance\n",
    "import networkx as nx\n",
    "import statistics\n"
   ]
  },
  {
   "cell_type": "code",
   "execution_count": 2,
   "metadata": {},
   "outputs": [
    {
     "data": {
      "text/html": [
       "<div>\n",
       "<style scoped>\n",
       "    .dataframe tbody tr th:only-of-type {\n",
       "        vertical-align: middle;\n",
       "    }\n",
       "\n",
       "    .dataframe tbody tr th {\n",
       "        vertical-align: top;\n",
       "    }\n",
       "\n",
       "    .dataframe thead th {\n",
       "        text-align: right;\n",
       "    }\n",
       "</style>\n",
       "<table border=\"1\" class=\"dataframe\">\n",
       "  <thead>\n",
       "    <tr style=\"text-align: right;\">\n",
       "      <th></th>\n",
       "      <th>article</th>\n",
       "      <th>summary</th>\n",
       "      <th>article_char_count</th>\n",
       "      <th>article_word_count</th>\n",
       "      <th>article_sentence_count</th>\n",
       "      <th>summary_char_count</th>\n",
       "      <th>summary_word_count</th>\n",
       "      <th>summary_sentence_count</th>\n",
       "    </tr>\n",
       "  </thead>\n",
       "  <tbody>\n",
       "    <tr>\n",
       "      <th>57106</th>\n",
       "      <td>-- Season four of \"The Voice,\" featuring Ushe...</td>\n",
       "      <td>Usher and Shakira will filling in for Cee Lo G...</td>\n",
       "      <td>5262</td>\n",
       "      <td>968</td>\n",
       "      <td>57</td>\n",
       "      <td>184</td>\n",
       "      <td>35</td>\n",
       "      <td>3</td>\n",
       "    </tr>\n",
       "    <tr>\n",
       "      <th>20156</th>\n",
       "      <td>Akil Vohra quit a lucrative job in internation...</td>\n",
       "      <td>U.S. government started cracking down on Musli...</td>\n",
       "      <td>4057</td>\n",
       "      <td>646</td>\n",
       "      <td>36</td>\n",
       "      <td>217</td>\n",
       "      <td>29</td>\n",
       "      <td>3</td>\n",
       "    </tr>\n",
       "    <tr>\n",
       "      <th>40339</th>\n",
       "      <td>Aurora Ogg wakes up every day and goes to work...</td>\n",
       "      <td>Reince Priebus marks a year of changes at the ...</td>\n",
       "      <td>5489</td>\n",
       "      <td>924</td>\n",
       "      <td>50</td>\n",
       "      <td>299</td>\n",
       "      <td>47</td>\n",
       "      <td>4</td>\n",
       "    </tr>\n",
       "  </tbody>\n",
       "</table>\n",
       "</div>"
      ],
      "text/plain": [
       "                                                 article  \\\n",
       "57106   -- Season four of \"The Voice,\" featuring Ushe...   \n",
       "20156  Akil Vohra quit a lucrative job in internation...   \n",
       "40339  Aurora Ogg wakes up every day and goes to work...   \n",
       "\n",
       "                                                 summary  article_char_count  \\\n",
       "57106  Usher and Shakira will filling in for Cee Lo G...                5262   \n",
       "20156  U.S. government started cracking down on Musli...                4057   \n",
       "40339  Reince Priebus marks a year of changes at the ...                5489   \n",
       "\n",
       "       article_word_count  article_sentence_count  summary_char_count  \\\n",
       "57106                 968                      57                 184   \n",
       "20156                 646                      36                 217   \n",
       "40339                 924                      50                 299   \n",
       "\n",
       "       summary_word_count  summary_sentence_count  \n",
       "57106                  35                       3  \n",
       "20156                  29                       3  \n",
       "40339                  47                       4  "
      ]
     },
     "execution_count": 2,
     "metadata": {},
     "output_type": "execute_result"
    }
   ],
   "source": [
    "FINAL_CORPUS = './data/corpus/corpus_cleaned.pkl'\n",
    "corpus = pd.read_pickle(FINAL_CORPUS)\n",
    "corpus.sample(3)"
   ]
  },
  {
   "cell_type": "code",
   "execution_count": 3,
   "metadata": {},
   "outputs": [],
   "source": [
    "PUNCTUATION_STOP = ['\"', \"'\", '', '...', '!', '?', '(', ')', '[', ']', '{', '}', '\\\\', '/', ':', ',', '...',\n",
    "               '$', '#', '%', '*', '%', '$', '#', '@', '--', '-', '_', '+', '=', '^', \"''\", '\"\"', '','those', 'on', 'own', '’ve', 'yourselves', 'around', 'between', 'four', 'been', 'alone', 'off', 'am', 'then', 'other', 'can', 'regarding', 'hereafter', 'front', 'too', 'used', 'wherein', '‘ll', 'doing', 'everything', 'up', 'onto', 'never', 'either', 'how', 'before', 'anyway', 'since', 'through', 'amount', 'now', 'he', 'was', 'have', 'into', 'because', 'not', 'therefore', 'they', 'n’t', 'even', 'whom', 'it', 'see', 'somewhere', 'thereupon', 'nothing', 'whereas', 'much', 'whenever', 'seem', 'until', 'whereby', 'at', 'also', 'some', 'last', 'than', 'get', 'already', 'our', 'once', 'will', 'noone', \"'m\", 'that', 'what', 'thus', 'no', 'myself', 'out', 'next', 'whatever', 'although', 'though', 'which', 'would', 'therein', 'nor', 'somehow', 'whereupon', 'besides', 'whoever', 'ourselves', 'few', 'did', 'without', 'third', 'anything', 'twelve', 'against', 'while', 'twenty', 'if', 'however', 'herself', 'when', 'may', 'ours', 'six', 'done', 'seems', 'else', 'call', 'perhaps', 'had', 'nevertheless', 'where', 'otherwise', 'still', 'within', 'its', 'for', 'together', 'elsewhere', 'throughout', 'of', 'others', 'show', '’s', 'anywhere', 'anyhow', 'as', 'are', 'the', 'hence', 'something', 'hereby', 'nowhere', 'latterly', 'say', 'does', 'neither', 'his', 'go', 'forty', 'put', 'their', 'by', 'namely', 'could', 'five', 'unless', 'itself', 'is', 'nine', 'whereafter', 'down', 'bottom', 'thereby', 'such', 'both', 'she', 'become', 'whole', 'who', 'yourself', 'every', 'thru', 'except', 'very', 'several', 'among', 'being', 'be', 'mine', 'further', 'n‘t', 'here', 'during', 'why', 'with', 'just', \"'s\", 'becomes', '’ll', 'about', 'a', 'using', 'seeming', \"'d\", \"'ll\", \"'re\", 'due', 'wherever', 'beforehand', 'fifty', 'becoming', 'might', 'amongst', 'my', 'empty', 'thence', 'thereafter', 'almost', 'least', 'someone', 'often', 'from', 'keep', 'him', 'or', '‘m', 'top', 'her', 'nobody', 'sometime', 'across', '‘s', '’re', 'hundred', 'only', 'via', 'name', 'eight', 'three', 'back', 'to', 'all', 'became', 'move', 'me', 'we', 'formerly', 'so', 'i', 'whence', 'under', 'always', 'himself', 'in', 'herein', 'more', 'after', 'themselves', 'you', 'above', 'sixty', 'them', 'your', 'made', 'indeed', 'most', 'everywhere', 'fifteen', 'but', 'must', 'along', 'beside', 'hers', 'side', 'former', 'anyone', 'full', 'has', 'yours', 'whose', 'behind', 'please', 'ten', 'seemed', 'sometimes', 'should', 'over', 'take', 'each', 'same', 'rather', 'really', 'latter', 'and', 'ca', 'hereupon', 'part', 'per', 'eleven', 'ever', '‘re', 'enough', \"n't\", 'again', '‘d', 'us', 'yet', 'moreover', 'mostly', 'one', 'meanwhile', 'whither', 'there', 'toward', '’m', \"'ve\", '’d', 'give', 'do', 'an', 'quite', 'these', 'everyone', 'towards', 'this', 'cannot', 'afterwards', 'beyond', 'make', 'were', 'whether', 'well', 'another', 'below', 'first', 'upon', 'any', 'none', 'many', 'serious', 'various', 're', 'two', 'less', '‘ve']\n"
   ]
  },
  {
   "cell_type": "code",
   "execution_count": 4,
   "metadata": {},
   "outputs": [],
   "source": [
    "def listToString(s):     \n",
    "        str1 = \" \"  \n",
    "        return (str1.join(s))\n",
    "\n",
    "\n",
    "def preprocessing (text,tokenizer):\n",
    "    tokens = word_tokenize(text)\n",
    "    tokens = [w.lower() for w in tokens]\n",
    "    # print(tokens)\n",
    "    \n",
    "    stripped=[]\n",
    "    for x in tokens:\n",
    "        if x not in PUNCTUATION_STOP:\n",
    "            stripped.append(x)\n",
    "    # print(stripped[:100])\n",
    "\n",
    "    if tokenizer == 'lemma':\n",
    "        token_list=[WordNetLemmatizer().lemmatize(word) for word in stripped]\n",
    "    else:    \n",
    "        porter = PorterStemmer()\n",
    "        token_list = [porter.stem(word) for word in stripped]\n",
    "\n",
    "    # print(stemmed[:100])\n",
    "\n",
    "    return(listToString(token_list))"
   ]
  },
  {
   "cell_type": "code",
   "execution_count": 5,
   "metadata": {},
   "outputs": [],
   "source": [
    "\n",
    "# Remove  punctuation/stopwords\n",
    "def tokens_without_punctuation(text):\n",
    "    tokens = word_tokenize(text)\n",
    "\n",
    "    no_punctuation=[]\n",
    "    for x in tokens:\n",
    "        if x not in PUNCTUATION_STOP:\n",
    "            no_punctuation.append(x)\n",
    "    return no_punctuation\n",
    "\n",
    "# Separates text into sentences\n",
    "def  sentence_tokenize(text):\n",
    "     sentence_tokenized = list()\n",
    "     for txt in text.split('\\n'):\n",
    "          sentence_tokenized += sent_tokenize(txt)\n",
    "     return sentence_tokenized\n",
    "\n",
    "# words_list: list of words to be tokenized\n",
    "# tokenizer: (string) can be 'lemma' or 'stem'\n",
    "def _create_list_of_tokens(words_list, tokenizer):\n",
    "\n",
    "     if tokenizer == 'lemma':\n",
    "          token_maker = lambda word: WordNetLemmatizer().lemmatize(word).lower()\n",
    "     else:\n",
    "          token_maker = lambda word: PorterStemmer().stem(word).lower()\n",
    "     token_list = list()\n",
    "\n",
    "     for word in words_list:\n",
    "          token = token_maker(word)\n",
    "          if token not in PUNCTUATION_STOP:\n",
    "               token_list.append(token)\n",
    "     return token_list"
   ]
  },
  {
   "cell_type": "code",
   "execution_count": 6,
   "metadata": {},
   "outputs": [],
   "source": [
    "# Extract word vectors\n",
    "word_embeddings = {}\n",
    "f = open('./glove/glove.6B.100d.txt', encoding='utf-8')\n",
    "for line in f:\n",
    "    values = line.split()\n",
    "    word = values[0]\n",
    "    coefs = np.asarray(values[1:], dtype='float32')\n",
    "    word_embeddings[word] = coefs\n",
    "f.close()\n",
    "\n",
    "\n"
   ]
  },
  {
   "cell_type": "code",
   "execution_count": 7,
   "metadata": {},
   "outputs": [],
   "source": [
    "def create_vector(sentence):\n",
    "    v = sum([word_embeddings.get(w, np.zeros((100,))) for w in sentence])/(len(sentence)+0.001)\n",
    "    return v"
   ]
  },
  {
   "cell_type": "code",
   "execution_count": null,
   "metadata": {},
   "outputs": [],
   "source": []
  },
  {
   "cell_type": "code",
   "execution_count": null,
   "metadata": {},
   "outputs": [],
   "source": [
    "   "
   ]
  },
  {
   "cell_type": "code",
   "execution_count": 8,
   "metadata": {},
   "outputs": [],
   "source": [
    "# Create vectors and calculate cosine similarity b/w two sentences\n",
    "def sentence_similarity(sent1,sent2,method):\n",
    "    if method==\"glove\":\n",
    "        vector1 = create_vector(sent1)\n",
    "        vector2 = create_vector(sent2)\n",
    "        return 1-cosine_distance(vector1,vector2)\n",
    "        \n",
    "    else:\n",
    "        sent1 = [w.lower() for w in sent1]\n",
    "        sent2 = [w.lower() for w in sent2]\n",
    "\n",
    "        all_words = list(set(sent1 + sent2))\n",
    "\n",
    "        \n",
    "\n",
    "        all_words = list(set(sent1 + sent2))\n",
    "\n",
    "        vector1 = [0] * len(all_words)\n",
    "        vector2 = [0] * len(all_words)\n",
    "\n",
    "        for w in sent1:\n",
    "            if not w in stopwords:\n",
    "                vector1[all_words.index(w)]+=1\n",
    "\n",
    "        for w in sent2:\n",
    "            if not w in stopwords:\n",
    "                vector2[all_words.index(w)]+=1\n",
    "\n",
    "        return 1-cosine_distance(vector1,vector2)\n",
    "    \n",
    "        "
   ]
  },
  {
   "cell_type": "code",
   "execution_count": 9,
   "metadata": {},
   "outputs": [],
   "source": [
    "# Create similarity matrix among all sentences\n",
    "def build_similarity_matrix(sentences,method):\n",
    "    similarity_matrix = np.zeros((len(sentences),len(sentences)))\n",
    "\n",
    "    for idx1 in range(len(sentences)):\n",
    "        for idx2 in range(len(sentences)):\n",
    "            if idx1!=idx2:\n",
    "                similarity_matrix[idx1][idx2] = sentence_similarity(sentences[idx1],sentences[idx2],method)\n",
    "\n",
    "    return similarity_matrix"
   ]
  },
  {
   "cell_type": "code",
   "execution_count": 17,
   "metadata": {},
   "outputs": [],
   "source": [
    "\n",
    "\n",
    "#Function to split text into sentences by fullstop(.)\n",
    "'''def read_article(text):\n",
    "\n",
    "    article = text.split(\". \")\n",
    "    sentences =[]\n",
    "\n",
    "    for sentence in article:\n",
    "        print(sentence)\n",
    "        sentences.append(sentence.replace(\"[^a-zA-Z]\",\" \").split(\" \"))\n",
    "\n",
    "    return sentences'''\n",
    "\n",
    "# Read the text and tokenize into sentences\n",
    "def read_article(text):\n",
    "\n",
    "    sentences =[]\n",
    "\n",
    "    sentences = sent_tokenize(text)\n",
    "    for sentence in sentences:\n",
    "        sentence.replace(\"[^a-zA-Z0-9]\",\" \")\n",
    "\n",
    "    return sentences\n",
    "\n",
    "\n",
    "\n",
    "\n",
    "\n",
    "\n",
    "\n",
    "# Generate and return text summary\n",
    "def generate_summary(text):\n",
    "\n",
    "    method=\"glove\"\n",
    "    stop_words = stopwords.words('english')\n",
    "    summarize_text = []\n",
    "    summarize_text2 = []\n",
    "\n",
    "    orig_sentences=sentence_tokenize(text)\n",
    "    top_n=len(orig_sentences)//2\n",
    "    # print(orig_sentences)\n",
    "    # contents=preprocessing(text,\"lemma\")\n",
    "    # print(contents)\n",
    "    # sentences = sentence_tokenize(contents)\n",
    "    # print(sentences)\n",
    "    # senno=len(sentences)\n",
    "    # Step1: read text and tokenize\n",
    "    # sentences = read_article(text)\n",
    "    \n",
    "    orig_sentences=sentence_tokenize(text)\n",
    "    sentence_similarity_matrix = build_similarity_matrix(orig_sentences,method)\n",
    "    sentence_similarity_graph = nx.from_numpy_array(sentence_similarity_matrix)\n",
    "    scores = nx.pagerank(sentence_similarity_graph,tol=1.0e-3)\n",
    "    res=statistics.mean(list(scores.values()))\n",
    "\n",
    "    ranked_sentences = sorted(((scores[i],s) for i,s in enumerate(orig_sentences)),reverse=True)\n",
    "\n",
    "    for i in range(len(ranked_sentences)):\n",
    "        if ranked_sentences[i][0] >=res:\n",
    "            summarize_text.append(ranked_sentences[i][1])\n",
    "\n",
    "    for i in range(top_n):\n",
    "        summarize_text2.append(ranked_sentences[i][1])        \n",
    "\n",
    "    # Step 6 : outpur the summarized version\n",
    "    # print(len(orig_sentences))\n",
    "    # print(len(summarize_text))\n",
    "\n",
    "    str1 = \" \"\n",
    "   \n",
    "    # return string \n",
    "    return (str1.join(summarize_text2))\n",
    "    # return \" \".join(summarize_text)\n"
   ]
  },
  {
   "cell_type": "code",
   "execution_count": 20,
   "metadata": {},
   "outputs": [],
   "source": [
    "# Generate and return text summary\n",
    "def generate_summary2(text):\n",
    "\n",
    "    method=\"normal\"\n",
    "    stop_words = stopwords.words('english')\n",
    "    summarize_text = []\n",
    "    summarize_text2 = []\n",
    "\n",
    "    orig_sentences=sentence_tokenize(text)\n",
    "    top_n=len(orig_sentences)//2\n",
    "    # print(orig_sentences)\n",
    "    # contents=preprocessing(text,\"lemma\")\n",
    "    # print(contents)\n",
    "    # sentences = sentence_tokenize(contents)\n",
    "    # print(sentences)\n",
    "    # senno=len(sentences)\n",
    "    # Step1: read text and tokenize\n",
    "    # sentences = read_article(text)\n",
    "\n",
    "    # Steo2: generate similarity matrix across sentences\n",
    "    sentence_similarity_matrix = build_similarity_matrix(orig_sentences,method)\n",
    "\n",
    "    # Step3: Rank sentences in similarirty matrix\n",
    "    sentence_similarity_graph = nx.from_numpy_array(sentence_similarity_matrix)\n",
    "    scores = nx.pagerank(sentence_similarity_graph,max_iter=10000)\n",
    "    # print(scores)\n",
    "    res=statistics.mean(list(scores.values()))\n",
    "    # print(res)\n",
    "    #Step4: sort the rank and place top sentences\n",
    "    ranked_sentences = sorted(((scores[i],s) for i,s in enumerate(orig_sentences)),reverse=True)\n",
    "    # print(ranked_sentences)\n",
    "\n",
    "    # Step 5: get the top n number of sentences based on rank\n",
    "    for i in range(len(ranked_sentences)):\n",
    "        if ranked_sentences[i][0] >=res:\n",
    "            summarize_text.append(ranked_sentences[i][1])\n",
    "\n",
    "    for i in range(top_n):\n",
    "        summarize_text2.append(ranked_sentences[i][1])        \n",
    "\n",
    "    # Step 6 : outpur the summarized version\n",
    "    # print(len(orig_sentences))\n",
    "    # print(len(summarize_text))\n",
    "\n",
    "    str1 = \" \"\n",
    "   \n",
    "    # return string \n",
    "    return (str1.join(summarize_text2))\n",
    "    # return \" \".join(summarize_text)"
   ]
  },
  {
   "cell_type": "code",
   "execution_count": 12,
   "metadata": {},
   "outputs": [
    {
     "name": "stdout",
     "output_type": "stream",
     "text": [
      "Though every citizen of Kosala wants Rama to be king, Rama demonstrates his intense loyalty and honor when he insists that Dasaratha uphold his promise to Kaikeyi, one of his wives, and crown Rama's brother, Bharatha, king instead.Rama retreats to the forests with Sita and his brother, Lakshmana, for 14 years, during which time Rama battles demons and rakshasas.When Ravana kidnaps Sita, Rama works closely with the monkeys of Kiskinda to rescue her.During the fight with Ravana, Rama behaves honorably by allowing Ravana time to recover from fainting spells, and even doubts the legitimacy and righteousness of his victory when he notices an injury on Ravana's back and fears that he inflicted it while Ravana fled.Though Rama has a streak of jealousy and possessiveness, especially when it comes to Sita (and even moreso in a later episode that is left out of this version of the epic), in general he is presented as the ideal hero and man. Rama is the titular protagonist and the first son of King Dasaratha.Though in this story Rama is a human, he's actually an avatar of the god Vishnu, who decided to take a human form in order to kill the evil rakshasa (demon) Ravana. He's exceptionally strong and skilled in battle, which is also an early clue to those around him that he's an incarnation of Vishnu.\n"
     ]
    }
   ],
   "source": [
    "article2=\"Rama is the titular protagonist and the first son of King Dasaratha.Though in this story Rama is a human, he's actually an avatar of the god Vishnu, who decided to take a human form in order to kill the evil rakshasa (demon) Ravana. Because of this, Rama's true identity is identifiable by his desire to rid the world of evil. He's exceptionally strong and skilled in battle, which is also an early clue to those around him that he's an incarnation of Vishnu. Rama uses this strength to string Shiva's bow and win Sita's hand in marriage. Though every citizen of Kosala wants Rama to be king, Rama demonstrates his intense loyalty and honor when he insists that Dasaratha uphold his promise to Kaikeyi, one of his wives, and crown Rama's brother, Bharatha, king instead.Rama retreats to the forests with Sita and his brother, Lakshmana, for 14 years, during which time Rama battles demons and rakshasas.When Ravana kidnaps Sita, Rama works closely with the monkeys of Kiskinda to rescue her.During the fight with Ravana, Rama behaves honorably by allowing Ravana time to recover from fainting spells, and even doubts the legitimacy and righteousness of his victory when he notices an injury on Ravana's back and fears that he inflicted it while Ravana fled.Though Rama has a streak of jealousy and possessiveness, especially when it comes to Sita (and even moreso in a later episode that is left out of this version of the epic), in general he is presented as the ideal hero and man. \"\n",
    "summary=generate_summary2(article2)\n",
    "print(summary)"
   ]
  },
  {
   "cell_type": "code",
   "execution_count": 14,
   "metadata": {},
   "outputs": [],
   "source": [
    "def nice_print(article, reference_summary, hypothesis_summary, width  = 300):\n",
    "  dedented_text = lambda text: textwrap.dedent(text).strip()\n",
    "  if article:\n",
    "    print('ARTICLE')\n",
    "    print(textwrap.fill(dedented_text(article), width=width), '\\n')\n",
    "  if reference_summary:\n",
    "    print('REFERENCE SUMMARY: Summary from Dataset')\n",
    "    print(textwrap.fill(dedented_text(reference_summary), width=width), '\\n')\n",
    "  if hypothesis_summary:\n",
    "    print('HYPOTHESIS SUMMARY : Summary generated from Algorithm')\n",
    "    print(textwrap.fill(dedented_text(hypothesis_summary), width=width), '\\n')"
   ]
  },
  {
   "cell_type": "code",
   "execution_count": 21,
   "metadata": {},
   "outputs": [
    {
     "name": "stdout",
     "output_type": "stream",
     "text": [
      "{'f': 0.14095238095238094, 'p': 0.07692307692307693, 'r': 0.8409090909090909}\n",
      "{'f': 0.1818181818181818, 'p': 0.10648148148148148, 'r': 0.6216216216216216}\n",
      "{'f': 0.34024896265560167, 'p': 0.21808510638297873, 'r': 0.7735849056603774}\n",
      "{'f': 0.26666666666666666, 'p': 0.1651376146788991, 'r': 0.6923076923076923}\n",
      "{'f': 0.1057142857142857, 'p': 0.05709876543209876, 'r': 0.7115384615384616}\n",
      "{'f': 0.13564668769716087, 'p': 0.07375643224699828, 'r': 0.8431372549019608}\n",
      "{'f': 0.14933333333333332, 'p': 0.08235294117647059, 'r': 0.8}\n"
     ]
    }
   ],
   "source": [
    "import rouge\n",
    "def rouge_scoring(hypothesis, reference, max_n = 1, alpha = 0.5, score = 'F1'):\n",
    "      \n",
    "      evaluator = rouge.Rouge(metrics = ['rouge-n'],\n",
    "                           max_n = max_n,\n",
    "                           limit_length = False,\n",
    "                           alpha = alpha, # Default F1_score\n",
    "                           stemming = True)\n",
    "      if score == 'F1':\n",
    "          score_entry = 'f'\n",
    "      elif score == 'Precision':\n",
    "          score_entry = 'p'\n",
    "      else:\n",
    "          score == 'Recall'\n",
    "          score_entry = 'r'\n",
    "  \n",
    "      rouge_score = evaluator.get_scores(hypothesis, reference)['rouge-' + str(max_n)]\n",
    "\n",
    "      return rouge_score\n",
    "\n",
    "# 12168,34861,87066,13950,40082,84878,87026\n",
    "idxs=[12168,34861,87066,13950,40082,84878,87026]\n",
    "for idx in idxs:\n",
    "    article = corpus.loc[idx, 'article']\n",
    "    reference_summary = corpus.loc[idx, 'summary']\n",
    "    hypothesis_summary = generate_summary2(article)\n",
    "    # nice_print(article, reference_summary, hypothesis_summary)\n",
    "    print(rouge_scoring(hypothesis_summary,reference_summary))"
   ]
  },
  {
   "cell_type": "code",
   "execution_count": 15,
   "metadata": {},
   "outputs": [],
   "source": [
    "import rouge\n",
    "def rouge_scoring(hypothesis, reference, max_n = 1, alpha = 0.5, score = 'F1'):\n",
    "      \n",
    "      evaluator = rouge.Rouge(metrics = ['rouge-n'],\n",
    "                           max_n = max_n,\n",
    "                           limit_length = False,\n",
    "                           alpha = alpha, # Default F1_score\n",
    "                           stemming = True)\n",
    "      if score == 'F1':\n",
    "          score_entry = 'f'\n",
    "      elif score == 'Precision':\n",
    "          score_entry = 'p'\n",
    "      else:\n",
    "          score == 'Recall'\n",
    "          score_entry = 'r'\n",
    "  \n",
    "      rouge_score = evaluator.get_scores(hypothesis, reference)['rouge-' + str(max_n)]\n",
    "\n",
    "      return rouge_score"
   ]
  },
  {
   "cell_type": "code",
   "execution_count": 16,
   "metadata": {},
   "outputs": [
    {
     "name": "stdout",
     "output_type": "stream",
     "text": [
      "69114\n",
      "ARTICLE\n",
      "A blond girl found in Greece whose birth parents were traced to a Bulgarian Roma village will be cared for by a foster family when she's returned to Bulgaria, the government's social services agency said  Maria, as the girl was known by the Roma couple with whom she was living in central Greece, was\n",
      "at the center of an international mystery after police discovered her.  DNA tests eventually showed that Saska Ruseva and her husband, Atanas Rusev, were her biological parents.  Her mother told CNN that she wants her child back -- but that seems unlikely to happen for now.  Maria, now being cared\n",
      "for by Greek children's charity Smile of a Child, will instead be cared for by a foster family.  The parents and their nine children have been living in poverty in a tumbledown, one-room mud brick house in the village of Nikolaevo, in central Bulgaria.  Emil Todorov, director of the Children\n",
      "Protection Department of Bulgaria's Agency for Social Assistance, told CNN it was not yet clear what documents Maria would arrive with.  Bulgaria's State Child Protection Agency has yet to say exactly when and how the girl will be brought from Greece, he said. Her interactions with her birth family\n",
      "will be determined by who is named as her legal guardian, he said.  The Agency for Social Assistance is also taking action to care for the Bulgarian parents' seven underage children.  The two youngest, ages 2 and 3, will stay with one foster family, said Todorov. Two other children will stay with\n",
      "another foster family, and a 15-year-old will stay with family members.  The remaining two, ages 8 and 12, will be staying at a specialized institution, because no appropriate foster families are available to take them in, he said.  Working with the parents  The placement of the children in foster\n",
      "care is only a temporary stage, Todorov said.  The goal is to give the parents the chance to improve their living conditions -- in which case they can be reunited with their children. Social services will help the parents find a job, he said.  \"We have to work with both parents, so that they can\n",
      "expand their parental potential,\" said Todorov.  While the children are in foster care, social workers will encourage frequent meetings with their parents, so that the family maintains its emotional connection, he said.  \"We don't take away the children,\" he said. \"We count on the collaboration by\n",
      "the whole family to cope with this difficult situation.\"  The Agency for Social Assistance said it had determined the parents had another child too, who was \"abandoned by her parents and raised by a family in another city.\"  Bulgarian police are investigating the Rusevs on suspicion they sold Maria\n",
      "for illegal adoption. A Greek Roma couple -- Christos Salis and Eleftheria Dimopoulo -- who were found looking after the girl are in custody, charged with kidnapping.  Daughter given away, says mother  Ruseva told CNN that she and her husband left for Greece in 2009 to look for farm work. She says\n",
      "she left her eldest daughter Katia, now 20 years old, to care for the family while they were away.  Ruseva says she was so thin she did not realize she was pregnant with Maria. \"I didn't know I was pregnant. I didn't even have a belly,\" she said.  Maria -- whom Ruseva originally named Stanka -- was\n",
      "born in a hospital in the Greek town of Lamia, about 70 kilometers (44 miles) from Farsala and the Roma camp where she was discovered this month.  Ruseva said she cared for Maria for seven months while her husband worked in poorly paying odd jobs, picking fruit and vegetables. They often slept in\n",
      "the streets or nearby olive groves, as they had so little money.  Then one day, when they took a job picking oranges, a woman offered to take care of their daughter and they gave her to the woman because they couldn't care for her themselves, Ruseva said. She denies selling the baby, saying she\n",
      "loves her and wants her back.  CNN's Karl Penhaul contributed to this report. \n",
      "\n",
      "REFERENCE SUMMARY: Summary from Dataset\n",
      "Social workers will try to help parents improve living conditions so children can return.  Maria will be cared for by a foster family in Bulgaria, authorities there say.  Her birth parents were found to be a Roma couple in Bulgaria.  The couple's other underage children will now be cared for by\n",
      "authorities. \n",
      "\n",
      "HYPOTHESIS SUMMARY : Summary generated from Algorithm\n",
      "Maria, as the girl was known by the Roma couple with whom she was living in central Greece, was at the center of an international mystery after police discovered her. The Agency for Social Assistance is also taking action to care for the Bulgarian parents' seven underage children. While the children\n",
      "are in foster care, social workers will encourage frequent meetings with their parents, so that the family maintains its emotional connection, he said. A blond girl found in Greece whose birth parents were traced to a Bulgarian Roma village will be cared for by a foster family when she's returned to\n",
      "Bulgaria, the government's social services agency said Emil Todorov, director of the Children Protection Department of Bulgaria's Agency for Social Assistance, told CNN it was not yet clear what documents Maria would arrive with. Bulgaria's State Child Protection Agency has yet to say exactly when\n",
      "and how the girl will be brought from Greece, he said. The placement of the children in foster care is only a temporary stage, Todorov said. The Agency for Social Assistance said it had determined the parents had another child too, who was \"abandoned by her parents and raised by a family in another\n",
      "city.\" The parents and their nine children have been living in poverty in a tumbledown, one-room mud brick house in the village of Nikolaevo, in central Bulgaria. \"We have to work with both parents, so that they can expand their parental potential,\" said Todorov. A Greek Roma couple -- Christos\n",
      "Salis and Eleftheria Dimopoulo -- who were found looking after the girl are in custody, charged with kidnapping. Ruseva said she cared for Maria for seven months while her husband worked in poorly paying odd jobs, picking fruit and vegetables. Then one day, when they took a job picking oranges, a\n",
      "woman offered to take care of their daughter and they gave her to the woman because they couldn't care for her themselves, Ruseva said. Social services will help the parents find a job, he said. Her interactions with her birth family will be determined by who is named as her legal guardian, he said.\n",
      "She denies selling the baby, saying she loves her and wants her back. Two other children will stay with another foster family, and a 15-year-old will stay with family members. The goal is to give the parents the chance to improve their living conditions -- in which case they can be reunited with\n",
      "their children. Bulgarian police are investigating the Rusevs on suspicion they sold Maria for illegal adoption. The two youngest, ages 2 and 3, will stay with one foster family, said Todorov. She says she left her eldest daughter Katia, now 20 years old, to care for the family while they were away.\n",
      "Maria -- whom Ruseva originally named Stanka -- was born in a hospital in the Greek town of Lamia, about 70 kilometers (44 miles) from Farsala and the Roma camp where she was discovered this month. \n",
      "\n",
      "{'rouge-1': {'f': 0.4675324675324675, 'p': 0.3564356435643564, 'r': 0.6792452830188679}}\n"
     ]
    }
   ],
   "source": [
    "# idx = corpus.sample(1).index[0]\n",
    "idx=69114\n",
    "print(idx)\n",
    "article = corpus.loc[idx, 'article']\n",
    "reference_summary = corpus.loc[idx, 'summary']\n",
    "hypothesis_summary = generate_summary(article)\n",
    "nice_print(article, reference_summary, hypothesis_summary)\n",
    "\n",
    "\n",
    "\n",
    "\n",
    "evaluator = rouge.Rouge(metrics = ['rouge-n'],\n",
    "                           max_n = 1,\n",
    "                           limit_length = True,\n",
    "                           length_limit = 100,\n",
    "                           length_limit_type = 'words',\n",
    "                           alpha = 0.5, # Default F1_score\n",
    "                           stemming=True)\n",
    "\n",
    "hypothesis = hypothesis_summary\n",
    "reference = reference_summary\n",
    "\n",
    "scores = evaluator.get_scores(hypothesis, reference)\n",
    "print(scores) "
   ]
  },
  {
   "cell_type": "code",
   "execution_count": 17,
   "metadata": {},
   "outputs": [
    {
     "name": "stdout",
     "output_type": "stream",
     "text": [
      "ARTICLE\n",
      "A blond girl found in Greece whose birth parents were traced to a Bulgarian Roma village will be cared for by a foster family when she's returned to Bulgaria, the government's social services agency said  Maria, as the girl was known by the Roma couple with whom she was living in central Greece, was\n",
      "at the center of an international mystery after police discovered her.  DNA tests eventually showed that Saska Ruseva and her husband, Atanas Rusev, were her biological parents.  Her mother told CNN that she wants her child back -- but that seems unlikely to happen for now.  Maria, now being cared\n",
      "for by Greek children's charity Smile of a Child, will instead be cared for by a foster family.  The parents and their nine children have been living in poverty in a tumbledown, one-room mud brick house in the village of Nikolaevo, in central Bulgaria.  Emil Todorov, director of the Children\n",
      "Protection Department of Bulgaria's Agency for Social Assistance, told CNN it was not yet clear what documents Maria would arrive with.  Bulgaria's State Child Protection Agency has yet to say exactly when and how the girl will be brought from Greece, he said. Her interactions with her birth family\n",
      "will be determined by who is named as her legal guardian, he said.  The Agency for Social Assistance is also taking action to care for the Bulgarian parents' seven underage children.  The two youngest, ages 2 and 3, will stay with one foster family, said Todorov. Two other children will stay with\n",
      "another foster family, and a 15-year-old will stay with family members.  The remaining two, ages 8 and 12, will be staying at a specialized institution, because no appropriate foster families are available to take them in, he said.  Working with the parents  The placement of the children in foster\n",
      "care is only a temporary stage, Todorov said.  The goal is to give the parents the chance to improve their living conditions -- in which case they can be reunited with their children. Social services will help the parents find a job, he said.  \"We have to work with both parents, so that they can\n",
      "expand their parental potential,\" said Todorov.  While the children are in foster care, social workers will encourage frequent meetings with their parents, so that the family maintains its emotional connection, he said.  \"We don't take away the children,\" he said. \"We count on the collaboration by\n",
      "the whole family to cope with this difficult situation.\"  The Agency for Social Assistance said it had determined the parents had another child too, who was \"abandoned by her parents and raised by a family in another city.\"  Bulgarian police are investigating the Rusevs on suspicion they sold Maria\n",
      "for illegal adoption. A Greek Roma couple -- Christos Salis and Eleftheria Dimopoulo -- who were found looking after the girl are in custody, charged with kidnapping.  Daughter given away, says mother  Ruseva told CNN that she and her husband left for Greece in 2009 to look for farm work. She says\n",
      "she left her eldest daughter Katia, now 20 years old, to care for the family while they were away.  Ruseva says she was so thin she did not realize she was pregnant with Maria. \"I didn't know I was pregnant. I didn't even have a belly,\" she said.  Maria -- whom Ruseva originally named Stanka -- was\n",
      "born in a hospital in the Greek town of Lamia, about 70 kilometers (44 miles) from Farsala and the Roma camp where she was discovered this month.  Ruseva said she cared for Maria for seven months while her husband worked in poorly paying odd jobs, picking fruit and vegetables. They often slept in\n",
      "the streets or nearby olive groves, as they had so little money.  Then one day, when they took a job picking oranges, a woman offered to take care of their daughter and they gave her to the woman because they couldn't care for her themselves, Ruseva said. She denies selling the baby, saying she\n",
      "loves her and wants her back.  CNN's Karl Penhaul contributed to this report. \n",
      "\n",
      "REFERENCE SUMMARY: Summary from Dataset\n",
      "Social workers will try to help parents improve living conditions so children can return.  Maria will be cared for by a foster family in Bulgaria, authorities there say.  Her birth parents were found to be a Roma couple in Bulgaria.  The couple's other underage children will now be cared for by\n",
      "authorities. \n",
      "\n",
      "HYPOTHESIS SUMMARY : Summary generated from Algorithm\n",
      "Maria, as the girl was known by the Roma couple with whom she was living in central Greece, was at the center of an international mystery after police discovered her. The Agency for Social Assistance is also taking action to care for the Bulgarian parents' seven underage children. While the children\n",
      "are in foster care, social workers will encourage frequent meetings with their parents, so that the family maintains its emotional connection, he said. A blond girl found in Greece whose birth parents were traced to a Bulgarian Roma village will be cared for by a foster family when she's returned to\n",
      "Bulgaria, the government's social services agency said Emil Todorov, director of the Children Protection Department of Bulgaria's Agency for Social Assistance, told CNN it was not yet clear what documents Maria would arrive with. Bulgaria's State Child Protection Agency has yet to say exactly when\n",
      "and how the girl will be brought from Greece, he said. The placement of the children in foster care is only a temporary stage, Todorov said. The Agency for Social Assistance said it had determined the parents had another child too, who was \"abandoned by her parents and raised by a family in another\n",
      "city.\" The parents and their nine children have been living in poverty in a tumbledown, one-room mud brick house in the village of Nikolaevo, in central Bulgaria. \"We have to work with both parents, so that they can expand their parental potential,\" said Todorov. A Greek Roma couple -- Christos\n",
      "Salis and Eleftheria Dimopoulo -- who were found looking after the girl are in custody, charged with kidnapping. Ruseva said she cared for Maria for seven months while her husband worked in poorly paying odd jobs, picking fruit and vegetables. Then one day, when they took a job picking oranges, a\n",
      "woman offered to take care of their daughter and they gave her to the woman because they couldn't care for her themselves, Ruseva said. Social services will help the parents find a job, he said. Her interactions with her birth family will be determined by who is named as her legal guardian, he said.\n",
      "She denies selling the baby, saying she loves her and wants her back. Two other children will stay with another foster family, and a 15-year-old will stay with family members. The goal is to give the parents the chance to improve their living conditions -- in which case they can be reunited with\n",
      "their children. Bulgarian police are investigating the Rusevs on suspicion they sold Maria for illegal adoption. The two youngest, ages 2 and 3, will stay with one foster family, said Todorov. She says she left her eldest daughter Katia, now 20 years old, to care for the family while they were away.\n",
      "Maria -- whom Ruseva originally named Stanka -- was born in a hospital in the Greek town of Lamia, about 70 kilometers (44 miles) from Farsala and the Roma camp where she was discovered this month. \n",
      "\n",
      "{'f': 0.17721518987341772, 'p': 0.098, 'r': 0.9245283018867925}\n",
      "ARTICLE\n",
      "The 103 Chadian children whom six French charity workers were convicted of attempting to kidnap will soon be reunited with their families, the United Nations' children agency said Friday.  Some of the 103 children who were nearly abducted by a French charity, pictured in Abeche in November 2007.\n",
      "The children have been living in an orphanage in Abeche, in eastern Chad, since late October. Chadian authorities arrested the Zoe's Ark aid workers as they earlier tried to leave the central African country with the children on a Paris-bound plane, the United Nations Children's Fund said.  The\n",
      "charity had said the children were orphans from Sudan's war-torn Darfur region and were being taken to foster families in France. However, other charities determined that most of the children were from Chad, not Sudan, and had at least one living parent.  Beginning next week, a UNICEF team will\n",
      "travel to Abeche, Adre and Tine to facilitate reuniting the 21 girls and 82 boys, aged 1 to 10, with their families. Chad's government has approved the move, UNICEF said.  Interviews with the children indicated that the majority were from villages near the cities of Adre and Tine along the Chadian-\n",
      "Sudanese border, according to a November statement from the Red Cross, UNICEF, and the U.N. High Commissioner for Refugees.  The kidnapping scandal attracted international attention, with French authorities reacting angrily to the charity's trip, calling the group's actions \"illegal and\n",
      "irresponsible.\"  However, French President Nicolas Sarkozy intervened on the six's behalf after a Chadian court sentenced the six aid workers to eight years of hard labor in Chad, and the central African nation handed them over to France to serve their sentences.  In late January, a French court\n",
      "sentenced Eric Breteau -- the group's leader -- Emilie Lelouch, Alain Peligat, Philippe van Winkelberg, Dominique Aubry and Nadia Merimi to eight years in a French prison. E-mail to a friend \n",
      "\n",
      "REFERENCE SUMMARY: Summary from Dataset\n",
      "The 103 children taken by French aid workers to be reunited with families soon.  The 21 girls and 82 boys, aged 1-10, will be handed over to relatives in Chad.  They have been in orphanage in Chadian town of Abeche since late October.  Six Zoe's Ark workers were convicted on kidnapping charges in\n",
      "December. \n",
      "\n",
      "HYPOTHESIS SUMMARY : Summary generated from Algorithm\n",
      "Interviews with the children indicated that the majority were from villages near the cities of Adre and Tine along the Chadian-Sudanese border, according to a November statement from the Red Cross, UNICEF, and the U.N. High Commissioner for Refugees. The 103 Chadian children whom six French charity\n",
      "workers were convicted of attempting to kidnap will soon be reunited with their families, the United Nations' children agency said Friday. However, other charities determined that most of the children were from Chad, not Sudan, and had at least one living parent. Chadian authorities arrested the\n",
      "Zoe's Ark aid workers as they earlier tried to leave the central African country with the children on a Paris-bound plane, the United Nations Children's Fund said. In late January, a French court sentenced Eric Breteau -- the group's leader -- Emilie Lelouch, Alain Peligat, Philippe van Winkelberg,\n",
      "Dominique Aubry and Nadia Merimi to eight years in a French prison. However, French President Nicolas Sarkozy intervened on the six's behalf after a Chadian court sentenced the six aid workers to eight years of hard labor in Chad, and the central African nation handed them over to France to serve\n",
      "their sentences. The charity had said the children were orphans from Sudan's war-torn Darfur region and were being taken to foster families in France. The children have been living in an orphanage in Abeche, in eastern Chad, since late October. Beginning next week, a UNICEF team will travel to\n",
      "Abeche, Adre and Tine to facilitate reuniting the 21 girls and 82 boys, aged 1 to 10, with their families. The kidnapping scandal attracted international attention, with French authorities reacting angrily to the charity's trip, calling the group's actions \"illegal and irresponsible.\" \n",
      "\n",
      "{'f': 0.29310344827586204, 'p': 0.17465753424657535, 'r': 0.9107142857142857}\n"
     ]
    }
   ],
   "source": [
    "idxs=[69114,65351]\n",
    "for idx in idxs:\n",
    "    article = corpus.loc[idx, 'article']\n",
    "    reference_summary = corpus.loc[idx, 'summary']\n",
    "    hypothesis_summary = generate_summary(article)\n",
    "    nice_print(article, reference_summary, hypothesis_summary)\n",
    "    print(rouge_scoring(hypothesis_summary,reference_summary))"
   ]
  },
  {
   "cell_type": "code",
   "execution_count": 18,
   "metadata": {},
   "outputs": [],
   "source": [
    "def run_on_corpus(df,n_predictions):\n",
    "\n",
    "  t0 = time.time()\n",
    "  sampling_interval = len(df) // n_predictions\n",
    "  index = df.index[::sampling_interval][:n_predictions]\n",
    "  data = df.loc[index, 'summary']\n",
    "  predictions = pd.DataFrame( data = data.values , columns = ['reference'], index = index)\n",
    "  \n",
    "\n",
    "  predicted_column = str(\"Normal\") + \"_\" + str(\"F1\")\n",
    "  print('Prediction colum: {}'.format(predicted_column))\n",
    "  predictions.loc[index, predicted_column] = df.loc[index, 'article'].apply(generate_summary2)\n",
    "  print('Time taken {:.2f} minutes'.format((time.time() - t0)/60))\n",
    "              \n",
    "    \n",
    "  print()\n",
    "  print('Total time to execute: {:.2f} minutes'.format((time.time() - t0)/60))\n",
    "  return predictions\n",
    "\n",
    "\n",
    "\n",
    "\n",
    "n_predictions = 200\n",
    "predictions_test = run_on_corpus(corpus,n_predictions)"
   ]
  },
  {
   "cell_type": "code",
   "execution_count": 19,
   "metadata": {},
   "outputs": [
    {
     "name": "stdout",
     "output_type": "stream",
     "text": [
      "Prediction colum: Glove_F1\n",
      "Time taken 1.45 minutes\n",
      "Prediction colum: Normal_F1\n",
      "Time taken 2.20 minutes\n",
      "\n",
      "Total time to execute: 2.20 minutes\n"
     ]
    }
   ],
   "source": [
    "\n",
    "\n"
   ]
  },
  {
   "cell_type": "code",
   "execution_count": 20,
   "metadata": {},
   "outputs": [
    {
     "data": {
      "text/html": [
       "<div>\n",
       "<style scoped>\n",
       "    .dataframe tbody tr th:only-of-type {\n",
       "        vertical-align: middle;\n",
       "    }\n",
       "\n",
       "    .dataframe tbody tr th {\n",
       "        vertical-align: top;\n",
       "    }\n",
       "\n",
       "    .dataframe thead th {\n",
       "        text-align: right;\n",
       "    }\n",
       "</style>\n",
       "<table border=\"1\" class=\"dataframe\">\n",
       "  <thead>\n",
       "    <tr style=\"text-align: right;\">\n",
       "      <th></th>\n",
       "      <th>reference</th>\n",
       "      <th>Glove_F1</th>\n",
       "      <th>Normal_F1</th>\n",
       "    </tr>\n",
       "  </thead>\n",
       "  <tbody>\n",
       "    <tr>\n",
       "      <th>80518</th>\n",
       "      <td>New social network for women claims to be 'tro...</td>\n",
       "      <td>Now Karen Cahn, a former Google, YouTube, and ...</td>\n",
       "      <td>Karen Cahn: VProud is a digital safe space for...</td>\n",
       "    </tr>\n",
       "    <tr>\n",
       "      <th>80978</th>\n",
       "      <td>So You Think wins Prince of Wales Stakes at Ro...</td>\n",
       "      <td>Runner-up in this race last year to the ill-fa...</td>\n",
       "      <td>Runner-up in this race last year to the ill-fa...</td>\n",
       "    </tr>\n",
       "    <tr>\n",
       "      <th>19219</th>\n",
       "      <td>Kunis joked on \"Jimmy Kimmel Live!\" about men ...</td>\n",
       "      <td>She then pulls out a microphone and begins a r...</td>\n",
       "      <td>She then pulls out a microphone and begins a r...</td>\n",
       "    </tr>\n",
       "    <tr>\n",
       "      <th>84637</th>\n",
       "      <td>Obama found the speech \"outrageous and offens...</td>\n",
       "      <td>Delegates from the United States and other nat...</td>\n",
       "      <td>Delegates from the United States and other nat...</td>\n",
       "    </tr>\n",
       "    <tr>\n",
       "      <th>32479</th>\n",
       "      <td>Lance Cpl. Sara Castromata and Cpl. Jacob Wool...</td>\n",
       "      <td>It came as the Corps grieves another tragedy: ...</td>\n",
       "      <td>Wooley's awards include the Navy Meritorious U...</td>\n",
       "    </tr>\n",
       "  </tbody>\n",
       "</table>\n",
       "</div>"
      ],
      "text/plain": [
       "                                               reference  \\\n",
       "80518  New social network for women claims to be 'tro...   \n",
       "80978  So You Think wins Prince of Wales Stakes at Ro...   \n",
       "19219  Kunis joked on \"Jimmy Kimmel Live!\" about men ...   \n",
       "84637   Obama found the speech \"outrageous and offens...   \n",
       "32479  Lance Cpl. Sara Castromata and Cpl. Jacob Wool...   \n",
       "\n",
       "                                                Glove_F1  \\\n",
       "80518  Now Karen Cahn, a former Google, YouTube, and ...   \n",
       "80978  Runner-up in this race last year to the ill-fa...   \n",
       "19219  She then pulls out a microphone and begins a r...   \n",
       "84637  Delegates from the United States and other nat...   \n",
       "32479  It came as the Corps grieves another tragedy: ...   \n",
       "\n",
       "                                               Normal_F1  \n",
       "80518  Karen Cahn: VProud is a digital safe space for...  \n",
       "80978  Runner-up in this race last year to the ill-fa...  \n",
       "19219  She then pulls out a microphone and begins a r...  \n",
       "84637  Delegates from the United States and other nat...  \n",
       "32479  Wooley's awards include the Navy Meritorious U...  "
      ]
     },
     "execution_count": 20,
     "metadata": {},
     "output_type": "execute_result"
    }
   ],
   "source": [
    "# predictions_test.to_pickle('./data/corpus/feature_score_1000.pkl')\n",
    "# predictions_test=pd.read_pickle('./data/corpus/feature_score_1000.pkl')\n",
    "predictions_test.sample(5)"
   ]
  },
  {
   "cell_type": "code",
   "execution_count": 21,
   "metadata": {},
   "outputs": [
    {
     "data": {
      "text/plain": [
       "200"
      ]
     },
     "execution_count": 21,
     "metadata": {},
     "output_type": "execute_result"
    }
   ],
   "source": [
    "len(predictions_test)"
   ]
  },
  {
   "cell_type": "code",
   "execution_count": 22,
   "metadata": {},
   "outputs": [],
   "source": [
    "def calculate_rouge(df, max_n = 1, alpha = 0.5, score = 'F1'):\n",
    "  t0 = time.time()\n",
    "  evaluator = rouge.Rouge(metrics = ['rouge-n'],\n",
    "                           max_n = max_n,\n",
    "                           limit_length = False,\n",
    "                           alpha = alpha, # Default F1_score\n",
    "                           stemming = True)\n",
    "  if score == 'F1':\n",
    "    score_entry = 'f'\n",
    "  elif score == 'Precision':\n",
    "    score_entry = 'p'\n",
    "  else:\n",
    "    score == 'Recall'\n",
    "    score_entry = 'r'\n",
    "    \n",
    "  scores_df = pd.DataFrame()\n",
    "  for column in df.columns[1:]:\n",
    "    score_column = column + '_' + score\n",
    "    for idx in df.index:\n",
    "      hypothesis = df.loc[idx, column]\n",
    "      reference = df.loc[idx, 'reference']\n",
    "      rouge_scores = evaluator.get_scores(hypothesis, reference)\n",
    "      scores_df.loc[idx, score_column] = rouge_scores['rouge-' + str(max_n)][score_entry]\n",
    "\n",
    "  print('Total time to execute: {:.2f} minutes'.format((time.time() - t0)/60))\n",
    "  return scores_df"
   ]
  },
  {
   "cell_type": "code",
   "execution_count": 23,
   "metadata": {},
   "outputs": [
    {
     "name": "stdout",
     "output_type": "stream",
     "text": [
      "Total time to execute: 0.08 minutes\n"
     ]
    }
   ],
   "source": [
    "max_n = 1\n",
    "alpha = 0.5 # Default F1_score\n",
    "score = 'F1'\n",
    "predictions_scores = calculate_rouge(predictions_test, max_n, alpha, score)"
   ]
  },
  {
   "cell_type": "code",
   "execution_count": 76,
   "metadata": {},
   "outputs": [
    {
     "data": {
      "text/plain": [
       "Glove_F1_F1     0.614173\n",
       "Normal_F1_F1    0.614173\n",
       "dtype: float64"
      ]
     },
     "execution_count": 76,
     "metadata": {},
     "output_type": "execute_result"
    }
   ],
   "source": [
    "predictions_scores.max()"
   ]
  },
  {
   "cell_type": "code",
   "execution_count": 75,
   "metadata": {},
   "outputs": [
    {
     "data": {
      "text/html": [
       "<div>\n",
       "<style scoped>\n",
       "    .dataframe tbody tr th:only-of-type {\n",
       "        vertical-align: middle;\n",
       "    }\n",
       "\n",
       "    .dataframe tbody tr th {\n",
       "        vertical-align: top;\n",
       "    }\n",
       "\n",
       "    .dataframe thead th {\n",
       "        text-align: right;\n",
       "    }\n",
       "</style>\n",
       "<table border=\"1\" class=\"dataframe\">\n",
       "  <thead>\n",
       "    <tr style=\"text-align: right;\">\n",
       "      <th></th>\n",
       "      <th>Glove_F1_F1</th>\n",
       "      <th>Normal_F1_F1</th>\n",
       "    </tr>\n",
       "  </thead>\n",
       "  <tbody>\n",
       "    <tr>\n",
       "      <th>458</th>\n",
       "      <td>0.257627</td>\n",
       "      <td>0.252632</td>\n",
       "    </tr>\n",
       "  </tbody>\n",
       "</table>\n",
       "</div>"
      ],
      "text/plain": [
       "     Glove_F1_F1  Normal_F1_F1\n",
       "458     0.257627      0.252632"
      ]
     },
     "execution_count": 75,
     "metadata": {},
     "output_type": "execute_result"
    }
   ],
   "source": [
    "predictions_scores.loc[[458]]"
   ]
  },
  {
   "cell_type": "code",
   "execution_count": 69,
   "metadata": {},
   "outputs": [
    {
     "ename": "AttributeError",
     "evalue": "'DataFrame' object has no attribute 'as_matrix'",
     "output_type": "error",
     "traceback": [
      "\u001b[1;31m---------------------------------------------------------------------------\u001b[0m",
      "\u001b[1;31mAttributeError\u001b[0m                            Traceback (most recent call last)",
      "Cell \u001b[1;32mIn[69], line 1\u001b[0m\n\u001b[1;32m----> 1\u001b[0m np_df \u001b[39m=\u001b[39m predictions_scores\u001b[39m.\u001b[39;49mas_matrix()\n\u001b[0;32m      2\u001b[0m np\u001b[39m.\u001b[39mdf[\u001b[39m458\u001b[39m]\n",
      "File \u001b[1;32m~\\AppData\\Roaming\\Python\\Python311\\site-packages\\pandas\\core\\generic.py:5902\u001b[0m, in \u001b[0;36mNDFrame.__getattr__\u001b[1;34m(self, name)\u001b[0m\n\u001b[0;32m   5895\u001b[0m \u001b[39mif\u001b[39;00m (\n\u001b[0;32m   5896\u001b[0m     name \u001b[39mnot\u001b[39;00m \u001b[39min\u001b[39;00m \u001b[39mself\u001b[39m\u001b[39m.\u001b[39m_internal_names_set\n\u001b[0;32m   5897\u001b[0m     \u001b[39mand\u001b[39;00m name \u001b[39mnot\u001b[39;00m \u001b[39min\u001b[39;00m \u001b[39mself\u001b[39m\u001b[39m.\u001b[39m_metadata\n\u001b[0;32m   5898\u001b[0m     \u001b[39mand\u001b[39;00m name \u001b[39mnot\u001b[39;00m \u001b[39min\u001b[39;00m \u001b[39mself\u001b[39m\u001b[39m.\u001b[39m_accessors\n\u001b[0;32m   5899\u001b[0m     \u001b[39mand\u001b[39;00m \u001b[39mself\u001b[39m\u001b[39m.\u001b[39m_info_axis\u001b[39m.\u001b[39m_can_hold_identifiers_and_holds_name(name)\n\u001b[0;32m   5900\u001b[0m ):\n\u001b[0;32m   5901\u001b[0m     \u001b[39mreturn\u001b[39;00m \u001b[39mself\u001b[39m[name]\n\u001b[1;32m-> 5902\u001b[0m \u001b[39mreturn\u001b[39;00m \u001b[39mobject\u001b[39;49m\u001b[39m.\u001b[39;49m\u001b[39m__getattribute__\u001b[39;49m(\u001b[39mself\u001b[39;49m, name)\n",
      "\u001b[1;31mAttributeError\u001b[0m: 'DataFrame' object has no attribute 'as_matrix'"
     ]
    }
   ],
   "source": [
    "np_df = predictions_scores.as_matrix()\n",
    "np.df[458]"
   ]
  },
  {
   "cell_type": "code",
   "execution_count": 53,
   "metadata": {},
   "outputs": [
    {
     "data": {
      "text/plain": [
       "Glove_F1_F1     0.163582\n",
       "Normal_F1_F1    0.164661\n",
       "dtype: float64"
      ]
     },
     "execution_count": 53,
     "metadata": {},
     "output_type": "execute_result"
    }
   ],
   "source": [
    "predictions_scores.mean()\n",
    "# maxValueIndex = predictions_scores.idxmax()\n",
    "# print(maxValueIndex)"
   ]
  },
  {
   "cell_type": "code",
   "execution_count": 134,
   "metadata": {},
   "outputs": [
    {
     "name": "stderr",
     "output_type": "stream",
     "text": [
      "C:\\Users\\kk910\\AppData\\Local\\Temp\\ipykernel_10280\\1083861212.py:7: UserWarning: \n",
      "\n",
      "`distplot` is a deprecated function and will be removed in seaborn v0.14.0.\n",
      "\n",
      "Please adapt your code to use either `displot` (a figure-level function with\n",
      "similar flexibility) or `histplot` (an axes-level function for histograms).\n",
      "\n",
      "For a guide to updating your code to use the new functions, please see\n",
      "https://gist.github.com/mwaskom/de44147ed2974457ad6372750bbe5751\n",
      "\n",
      "  sns.distplot(predictions_scores[score_column], ax = ax, bins = 25, hist_kws={'alpha':0.5}, label = score_column)\n"
     ]
    },
    {
     "data": {
      "text/plain": [
       "Text(0.5, 1.0, 'F1 score of ')"
      ]
     },
     "execution_count": 134,
     "metadata": {},
     "output_type": "execute_result"
    },
    {
     "data": {
      "image/png": "[encoded data removed]",
      "text/plain": [
       "<Figure size 1200x600 with 1 Axes>"
      ]
     },
     "metadata": {},
     "output_type": "display_data"
    }
   ],
   "source": [
    "score_column = 'Normal_F1_F1'\n",
    "# print('F1 average = {:.4f}'.format(predictions_scores[score_column].max()))\n",
    "# print('F1 standard deviation = {:.4f}'.format(predictions_scores[score_column].std()))\n",
    "\n",
    "\n",
    "_, ax = plt.subplots(figsize = (12,6))\n",
    "sns.distplot(predictions_scores[score_column], ax = ax, bins = 25, hist_kws={'alpha':0.5}, label = score_column)\n",
    "ax.set_xlabel('ROUGE metric')\n",
    "ax.set_title('F1 score of ')"
   ]
  },
  {
   "cell_type": "code",
   "execution_count": null,
   "metadata": {},
   "outputs": [],
   "source": []
  },
  {
   "cell_type": "code",
   "execution_count": 57,
   "metadata": {},
   "outputs": [],
   "source": [
    "def len_sent_tokenize(text):\n",
    "  return len(sentence_tokenize(text))\n",
    "\n",
    "\n",
    "\n",
    "qty_of_sentences = predictions_test['Glove_F1'].apply(len_sent_tokenize)"
   ]
  },
  {
   "cell_type": "code",
   "execution_count": 58,
   "metadata": {},
   "outputs": [],
   "source": [
    "qty_of_sentences_reference = predictions_test['reference'].apply(len_sent_tokenize)\n",
    "\n",
    "diff_number_of_sentences = qty_of_sentences - qty_of_sentences_reference"
   ]
  },
  {
   "cell_type": "code",
   "execution_count": 59,
   "metadata": {},
   "outputs": [
    {
     "name": "stdout",
     "output_type": "stream",
     "text": [
      "0        45\n",
      "458       9\n",
      "915       9\n",
      "1373     39\n",
      "1831      2\n",
      "         ..\n",
      "89210    11\n",
      "89668     3\n",
      "90128    46\n",
      "90586     9\n",
      "91044    10\n",
      "Length: 200, dtype: int64\n",
      "Max Difference 61\n",
      "Minimum Difference 0\n"
     ]
    }
   ],
   "source": [
    "print(diff_number_of_sentences)\n",
    "print(\"Max Difference\",np.max(diff_number_of_sentences))\n",
    "print(\"Minimum Difference\",np.min(diff_number_of_sentences))"
   ]
  },
  {
   "cell_type": "code",
   "execution_count": 62,
   "metadata": {},
   "outputs": [
    {
     "data": {
      "image/png": "[encoded data removed]",
      "text/plain": [
       "<Figure size 640x480 with 1 Axes>"
      ]
     },
     "metadata": {},
     "output_type": "display_data"
    }
   ],
   "source": [
    "sns.scatterplot(x = diff_number_of_sentences, \n",
    "            y = predictions_scores['Glove_F1_F1'].values,\n",
    "            alpha =0.5, s = 12)\n",
    "\n",
    "plt.xlabel('Difference of number of sentences between summaries')\n",
    "plt.xlim((0,+100))\n",
    "plt.show()"
   ]
  }
 ],
 "metadata": {
  "kernelspec": {
   "display_name": "Python 3",
   "language": "python",
   "name": "python3"
  },
  "language_info": {
   "codemirror_mode": {
    "name": "ipython",
    "version": 3
   },
   "file_extension": ".py",
   "mimetype": "text/x-python",
   "name": "python",
   "nbconvert_exporter": "python",
   "pygments_lexer": "ipython3",
   "version": "3.11.2"
  },
  "orig_nbformat": 4
 },
 "nbformat": 4,
 "nbformat_minor": 2
}
